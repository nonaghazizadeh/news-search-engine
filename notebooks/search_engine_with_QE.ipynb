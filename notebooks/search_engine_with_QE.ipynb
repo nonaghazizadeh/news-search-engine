{
 "cells": [
  {
   "cell_type": "markdown",
   "metadata": {
    "id": "vF3_RR29a5dH"
   },
   "source": [
    "### Installing and importing libraries"
   ]
  },
  {
   "cell_type": "code",
   "execution_count": 1,
   "metadata": {
    "colab": {
     "base_uri": "https://localhost:8080/"
    },
    "id": "vRBXbEgLP0Z3",
    "outputId": "c93dc8ca-8cc9-4ae8-b026-e88b77cd4ac7"
   },
   "outputs": [
    {
     "name": "stdout",
     "output_type": "stream",
     "text": [
      "Requirement already satisfied: hazm in /Users/nonaghazizadeh/opt/anaconda3/lib/python3.9/site-packages (0.7.0)\n",
      "Requirement already satisfied: nltk==3.3 in /Users/nonaghazizadeh/opt/anaconda3/lib/python3.9/site-packages (from hazm) (3.3)\n",
      "Requirement already satisfied: libwapiti>=0.2.1 in /Users/nonaghazizadeh/opt/anaconda3/lib/python3.9/site-packages (from hazm) (0.2.1)\n",
      "Requirement already satisfied: six in /Users/nonaghazizadeh/opt/anaconda3/lib/python3.9/site-packages (from nltk==3.3->hazm) (1.15.0)\n",
      "Requirement already satisfied: pandas in /Users/nonaghazizadeh/opt/anaconda3/lib/python3.9/site-packages (1.4.2)\n",
      "Requirement already satisfied: python-dateutil>=2.8.1 in /Users/nonaghazizadeh/opt/anaconda3/lib/python3.9/site-packages (from pandas) (2.8.2)\n",
      "Requirement already satisfied: pytz>=2020.1 in /Users/nonaghazizadeh/opt/anaconda3/lib/python3.9/site-packages (from pandas) (2021.3)\n",
      "Requirement already satisfied: numpy>=1.18.5 in /Users/nonaghazizadeh/opt/anaconda3/lib/python3.9/site-packages (from pandas) (1.19.5)\n",
      "Requirement already satisfied: six>=1.5 in /Users/nonaghazizadeh/opt/anaconda3/lib/python3.9/site-packages (from python-dateutil>=2.8.1->pandas) (1.15.0)\n",
      "Requirement already satisfied: numpy in /Users/nonaghazizadeh/opt/anaconda3/lib/python3.9/site-packages (1.19.5)\n",
      "Requirement already satisfied: nltk in /Users/nonaghazizadeh/opt/anaconda3/lib/python3.9/site-packages (3.3)\n",
      "Requirement already satisfied: six in /Users/nonaghazizadeh/opt/anaconda3/lib/python3.9/site-packages (from nltk) (1.15.0)\n",
      "Requirement already satisfied: tqdm in /Users/nonaghazizadeh/opt/anaconda3/lib/python3.9/site-packages (4.64.0)\n",
      "Requirement already satisfied: fasttext in /Users/nonaghazizadeh/opt/anaconda3/lib/python3.9/site-packages (0.9.2)\n",
      "Requirement already satisfied: setuptools>=0.7.0 in /Users/nonaghazizadeh/opt/anaconda3/lib/python3.9/site-packages (from fasttext) (61.2.0)\n",
      "Requirement already satisfied: pybind11>=2.2 in /Users/nonaghazizadeh/opt/anaconda3/lib/python3.9/site-packages (from fasttext) (2.9.2)\n",
      "Requirement already satisfied: numpy in /Users/nonaghazizadeh/opt/anaconda3/lib/python3.9/site-packages (from fasttext) (1.19.5)\n"
     ]
    }
   ],
   "source": [
    "!pip install hazm\n",
    "!pip install pandas\n",
    "!pip install numpy\n",
    "!pip install nltk\n",
    "!pip install tqdm\n",
    "# !pip install transformers\n",
    "!pip install fasttext"
   ]
  },
  {
   "cell_type": "code",
   "execution_count": 2,
   "metadata": {
    "id": "ghIakzS0P4wH"
   },
   "outputs": [],
   "source": [
    "import pandas as pd\n",
    "import numpy as np\n",
    "from hazm import *\n",
    "import tqdm\n",
    "import json\n",
    "import codecs\n",
    "from nltk import FreqDist\n",
    "import pickle\n",
    "from scipy import sparse\n",
    "from sklearn.feature_extraction.text import TfidfVectorizer\n",
    "from sklearn.metrics.pairwise import cosine_similarity\n",
    "# from transformers import BigBirdModel, AutoTokenizer\n",
    "import fasttext"
   ]
  },
  {
   "cell_type": "markdown",
   "metadata": {
    "id": "roQKPE71bCjG"
   },
   "source": [
    "### Import data"
   ]
  },
  {
   "cell_type": "code",
   "execution_count": 4,
   "metadata": {
    "colab": {
     "base_uri": "https://localhost:8080/",
     "height": 424
    },
    "id": "5xd10XqgRF6K",
    "outputId": "ba0f830c-099a-4f18-cd33-67109da805bc"
   },
   "outputs": [
    {
     "data": {
      "text/html": [
       "<div>\n",
       "<style scoped>\n",
       "    .dataframe tbody tr th:only-of-type {\n",
       "        vertical-align: middle;\n",
       "    }\n",
       "\n",
       "    .dataframe tbody tr th {\n",
       "        vertical-align: top;\n",
       "    }\n",
       "\n",
       "    .dataframe thead th {\n",
       "        text-align: right;\n",
       "    }\n",
       "</style>\n",
       "<table border=\"1\" class=\"dataframe\">\n",
       "  <thead>\n",
       "    <tr style=\"text-align: right;\">\n",
       "      <th></th>\n",
       "      <th>title</th>\n",
       "      <th>subject</th>\n",
       "      <th>content</th>\n",
       "    </tr>\n",
       "  </thead>\n",
       "  <tbody>\n",
       "    <tr>\n",
       "      <th>0</th>\n",
       "      <td>هاشمی: هماهنگ کردم آزمون خبرگان را از حسن روحا...</td>\n",
       "      <td>سیاسی</td>\n",
       "      <td>به گزارش همشهری آنلاین، روزنامه فرهیختگان در ش...</td>\n",
       "    </tr>\n",
       "    <tr>\n",
       "      <th>1</th>\n",
       "      <td>اصلاح قانون  اسلحه از کجا کلید خورد؟ ا  مامور ...</td>\n",
       "      <td>سیاسی</td>\n",
       "      <td>همشهری‌آنلاین- امیرمحمدحسینی:اصلاحیه قانون به ...</td>\n",
       "    </tr>\n",
       "    <tr>\n",
       "      <th>2</th>\n",
       "      <td>ایران در برابر قطعنامه‌های آژانس سکوت نمی‌کند ...</td>\n",
       "      <td>سیاسی</td>\n",
       "      <td>به گزارش همشهری‌آنلاین،فدا حسین مالکی در مورد ...</td>\n",
       "    </tr>\n",
       "    <tr>\n",
       "      <th>3</th>\n",
       "      <td>اینفوگرافیک | اصلاحات قانون به‌کارگیری اسلحه چ...</td>\n",
       "      <td>سیاسی</td>\n",
       "      <td>ЩҮЩ…ШҙЩҮШұЫҢ ШўЩҶЩ„Ш§ЫҢЩҶ - Ш§Щ…ЫҢШұЩ…ШӯЩ…ШҜ Ш...</td>\n",
       "    </tr>\n",
       "    <tr>\n",
       "      <th>4</th>\n",
       "      <td>پیام تبریک رئیسی به رییس‌جمهور فیلیپین</td>\n",
       "      <td>سیاسی</td>\n",
       "      <td>به گزارش همشهری‌آنلاین، آیت‌الله سید ابراهیم ر...</td>\n",
       "    </tr>\n",
       "    <tr>\n",
       "      <th>...</th>\n",
       "      <td>...</td>\n",
       "      <td>...</td>\n",
       "      <td>...</td>\n",
       "    </tr>\n",
       "    <tr>\n",
       "      <th>14871</th>\n",
       "      <td>عکس | ۲ ستاره تیم ملی در میان برترین گلزنان مق...</td>\n",
       "      <td>ورزش</td>\n",
       "      <td>به گزارش همشهری آنلاین مسابقات مقدماتی جام جها...</td>\n",
       "    </tr>\n",
       "    <tr>\n",
       "      <th>14872</th>\n",
       "      <td>عکس| ۲۷ تیم راه یافته به جام جهانی | ۵ تیم باق...</td>\n",
       "      <td>ورزش</td>\n",
       "      <td>به گزارش همشهری آنلاین با صعود پرتغال و لهستان...</td>\n",
       "    </tr>\n",
       "    <tr>\n",
       "      <th>14873</th>\n",
       "      <td>عکس | برد پرگل برزیل در شب خداحافظی کلمبیا و ش...</td>\n",
       "      <td>ورزش</td>\n",
       "      <td>به گزارش همشهری آنلاین مسابقات مقدماتی جام جها...</td>\n",
       "    </tr>\n",
       "    <tr>\n",
       "      <th>14874</th>\n",
       "      <td>خداحافظی غم انگیز کی روش با تیم ملی مصر | رنج ...</td>\n",
       "      <td>ورزش</td>\n",
       "      <td>به گزارش همشهری آنلاین تیم ملی مصر در مصاف با ...</td>\n",
       "    </tr>\n",
       "    <tr>\n",
       "      <th>14875</th>\n",
       "      <td>سیدبندی ایران در جام جهانی مشخص شد | قرعه احتم...</td>\n",
       "      <td>ورزش</td>\n",
       "      <td>به گزارش همشهری آنلاین با پایان تقریبی رقابت ه...</td>\n",
       "    </tr>\n",
       "  </tbody>\n",
       "</table>\n",
       "<p>14876 rows × 3 columns</p>\n",
       "</div>"
      ],
      "text/plain": [
       "                                                   title subject  \\\n",
       "0      هاشمی: هماهنگ کردم آزمون خبرگان را از حسن روحا...   سیاسی   \n",
       "1      اصلاح قانون  اسلحه از کجا کلید خورد؟ ا  مامور ...   سیاسی   \n",
       "2      ایران در برابر قطعنامه‌های آژانس سکوت نمی‌کند ...   سیاسی   \n",
       "3      اینفوگرافیک | اصلاحات قانون به‌کارگیری اسلحه چ...   سیاسی   \n",
       "4                 پیام تبریک رئیسی به رییس‌جمهور فیلیپین   سیاسی   \n",
       "...                                                  ...     ...   \n",
       "14871  عکس | ۲ ستاره تیم ملی در میان برترین گلزنان مق...    ورزش   \n",
       "14872  عکس| ۲۷ تیم راه یافته به جام جهانی | ۵ تیم باق...    ورزش   \n",
       "14873  عکس | برد پرگل برزیل در شب خداحافظی کلمبیا و ش...    ورزش   \n",
       "14874  خداحافظی غم انگیز کی روش با تیم ملی مصر | رنج ...    ورزش   \n",
       "14875  سیدبندی ایران در جام جهانی مشخص شد | قرعه احتم...    ورزش   \n",
       "\n",
       "                                                 content  \n",
       "0      به گزارش همشهری آنلاین، روزنامه فرهیختگان در ش...  \n",
       "1      همشهری‌آنلاین- امیرمحمدحسینی:اصلاحیه قانون به ...  \n",
       "2      به گزارش همشهری‌آنلاین،فدا حسین مالکی در مورد ...  \n",
       "3      ЩҮЩ…ШҙЩҮШұЫҢ ШўЩҶЩ„Ш§ЫҢЩҶ - Ш§Щ…ЫҢШұЩ…ШӯЩ…ШҜ Ш...  \n",
       "4      به گزارش همشهری‌آنلاین، آیت‌الله سید ابراهیم ر...  \n",
       "...                                                  ...  \n",
       "14871  به گزارش همشهری آنلاین مسابقات مقدماتی جام جها...  \n",
       "14872  به گزارش همشهری آنلاین با صعود پرتغال و لهستان...  \n",
       "14873  به گزارش همشهری آنلاین مسابقات مقدماتی جام جها...  \n",
       "14874  به گزارش همشهری آنلاین تیم ملی مصر در مصاف با ...  \n",
       "14875  به گزارش همشهری آنلاین با پایان تقریبی رقابت ه...  \n",
       "\n",
       "[14876 rows x 3 columns]"
      ]
     },
     "execution_count": 4,
     "metadata": {},
     "output_type": "execute_result"
    }
   ],
   "source": [
    "news_dict = {}\n",
    "with open('../data/news.json', \"r\", encoding=\"utf-8\") as text_file:\n",
    "        news_dict = json.loads(text_file.read())\n",
    "\n",
    "df = pd.DataFrame.from_dict(news_dict, orient='index')\n",
    "df"
   ]
  },
  {
   "cell_type": "markdown",
   "metadata": {
    "id": "ZBusZPcTbIv8"
   },
   "source": [
    "### Pre processing"
   ]
  },
  {
   "cell_type": "code",
   "execution_count": 5,
   "metadata": {
    "colab": {
     "base_uri": "https://localhost:8080/"
    },
    "id": "Rd_pCnukSsJO",
    "outputId": "c02f5d5a-3226-4b1c-9f49-8ac9f990b60c"
   },
   "outputs": [
    {
     "name": "stderr",
     "output_type": "stream",
     "text": [
      "100%|███████████████████████████████████| 14876/14876 [00:12<00:00, 1144.81it/s]\n"
     ]
    }
   ],
   "source": [
    "normalizer = Normalizer()\n",
    "\n",
    "normalized_news_dict = {}\n",
    "for idx,value in tqdm.tqdm(news_dict.items()):\n",
    "    normalized_news_dict[idx] = {\"title\" : value['title'] , \"content\":normalizer.normalize(value['content'])}\n",
    "  \n",
    "news_df = pd.DataFrame.from_dict(normalized_news_dict, orient='index')"
   ]
  },
  {
   "cell_type": "code",
   "execution_count": 6,
   "metadata": {
    "id": "IaIzf0xFS1nt"
   },
   "outputs": [],
   "source": [
    "new_stopwords = [normalizer.normalize(x.strip()) for x in codecs.open('../custom_requirments/new_stopwords.txt','r','utf-8').readlines()]\n",
    "stopwords = [normalizer.normalize(x.strip()) for x in codecs.open('../custom_requirments/stopwords.txt','r','utf-8').readlines()]"
   ]
  },
  {
   "cell_type": "code",
   "execution_count": 7,
   "metadata": {
    "id": "1xSkB2d4TJmV"
   },
   "outputs": [],
   "source": [
    "tokenized_words = [word_tokenize(_) for _ in news_df.content]"
   ]
  },
  {
   "cell_type": "code",
   "execution_count": 8,
   "metadata": {
    "colab": {
     "base_uri": "https://localhost:8080/",
     "height": 424
    },
    "id": "2-U6Ooo0S_kY",
    "outputId": "6a20f926-cd48-424f-e8a8-17979e952368"
   },
   "outputs": [
    {
     "data": {
      "text/html": [
       "<div>\n",
       "<style scoped>\n",
       "    .dataframe tbody tr th:only-of-type {\n",
       "        vertical-align: middle;\n",
       "    }\n",
       "\n",
       "    .dataframe tbody tr th {\n",
       "        vertical-align: top;\n",
       "    }\n",
       "\n",
       "    .dataframe thead th {\n",
       "        text-align: right;\n",
       "    }\n",
       "</style>\n",
       "<table border=\"1\" class=\"dataframe\">\n",
       "  <thead>\n",
       "    <tr style=\"text-align: right;\">\n",
       "      <th></th>\n",
       "      <th>title</th>\n",
       "      <th>content</th>\n",
       "      <th>word_tokenize</th>\n",
       "    </tr>\n",
       "  </thead>\n",
       "  <tbody>\n",
       "    <tr>\n",
       "      <th>0</th>\n",
       "      <td>هاشمی: هماهنگ کردم آزمون خبرگان را از حسن روحا...</td>\n",
       "      <td>به گزارش همشهری آنلاین، روزنامه فرهیختگان در ش...</td>\n",
       "      <td>[گزارش, همشهری, آنلاین, روزنامه, فرهیختگان, شم...</td>\n",
       "    </tr>\n",
       "    <tr>\n",
       "      <th>1</th>\n",
       "      <td>اصلاح قانون  اسلحه از کجا کلید خورد؟ ا  مامور ...</td>\n",
       "      <td>همشهری‌آنلاین- امیرمحمدحسینی: اصلاحیه قانون به...</td>\n",
       "      <td>[همشهری‌آنلاین-, امیرمحمدحسینی, اصلاحیه, قانون...</td>\n",
       "    </tr>\n",
       "    <tr>\n",
       "      <th>2</th>\n",
       "      <td>ایران در برابر قطعنامه‌های آژانس سکوت نمی‌کند ...</td>\n",
       "      <td>به گزارش همشهری‌آنلاین، فدا حسین مالکی در مورد...</td>\n",
       "      <td>[گزارش, همشهری‌آنلاین, فدا, حسین, مالکی, قطعنا...</td>\n",
       "    </tr>\n",
       "    <tr>\n",
       "      <th>3</th>\n",
       "      <td>اینفوگرافیک | اصلاحات قانون به‌کارگیری اسلحه چ...</td>\n",
       "      <td>ЩҮЩ…ШҙЩҮШұЫҢ ШўЩҶЩ„Ш§ЫҢЩҶ - Ш§Щ…ЫҢШұЩ…ШӯЩ…ШҜ Ш...</td>\n",
       "      <td>[ЩҮЩ…ШҙЩҮШұЫҢ, ШўЩҶЩ„Ш§ЫҢЩҶ, Ш§Щ…ЫҢШұЩ…ШӯЩ…ШҜ,...</td>\n",
       "    </tr>\n",
       "    <tr>\n",
       "      <th>4</th>\n",
       "      <td>پیام تبریک رئیسی به رییس‌جمهور فیلیپین</td>\n",
       "      <td>به گزارش همشهری‌آنلاین، آیت‌الله سید ابراهیم ر...</td>\n",
       "      <td>[گزارش, همشهری‌آنلاین, آیت‌الله, سید, ابراهیم,...</td>\n",
       "    </tr>\n",
       "    <tr>\n",
       "      <th>...</th>\n",
       "      <td>...</td>\n",
       "      <td>...</td>\n",
       "      <td>...</td>\n",
       "    </tr>\n",
       "    <tr>\n",
       "      <th>14871</th>\n",
       "      <td>عکس | ۲ ستاره تیم ملی در میان برترین گلزنان مق...</td>\n",
       "      <td>به گزارش همشهری آنلاین مسابقات مقدماتی جام جها...</td>\n",
       "      <td>[گزارش, همشهری, آنلاین, مسابقات, مقدماتی, جام,...</td>\n",
       "    </tr>\n",
       "    <tr>\n",
       "      <th>14872</th>\n",
       "      <td>عکس| ۲۷ تیم راه یافته به جام جهانی | ۵ تیم باق...</td>\n",
       "      <td>به گزارش همشهری آنلاین با صعود پرتغال و لهستان...</td>\n",
       "      <td>[گزارش, همشهری, آنلاین, صعود, پرتغال, لهستان, ...</td>\n",
       "    </tr>\n",
       "    <tr>\n",
       "      <th>14873</th>\n",
       "      <td>عکس | برد پرگل برزیل در شب خداحافظی کلمبیا و ش...</td>\n",
       "      <td>به گزارش همشهری آنلاین مسابقات مقدماتی جام جها...</td>\n",
       "      <td>[گزارش, همشهری, آنلاین, مسابقات, مقدماتی, جام,...</td>\n",
       "    </tr>\n",
       "    <tr>\n",
       "      <th>14874</th>\n",
       "      <td>خداحافظی غم انگیز کی روش با تیم ملی مصر | رنج ...</td>\n",
       "      <td>به گزارش همشهری آنلاین تیم ملی مصر در مصاف با ...</td>\n",
       "      <td>[گزارش, همشهری, آنلاین, تیم, ملی, مصر, مصاف, س...</td>\n",
       "    </tr>\n",
       "    <tr>\n",
       "      <th>14875</th>\n",
       "      <td>سیدبندی ایران در جام جهانی مشخص شد | قرعه احتم...</td>\n",
       "      <td>به گزارش همشهری آنلاین با پایان تقریبی رقابت‌ه...</td>\n",
       "      <td>[گزارش, همشهری, آنلاین, پایان, تقریبی, رقابت‌ه...</td>\n",
       "    </tr>\n",
       "  </tbody>\n",
       "</table>\n",
       "<p>14876 rows × 3 columns</p>\n",
       "</div>"
      ],
      "text/plain": [
       "                                                   title  \\\n",
       "0      هاشمی: هماهنگ کردم آزمون خبرگان را از حسن روحا...   \n",
       "1      اصلاح قانون  اسلحه از کجا کلید خورد؟ ا  مامور ...   \n",
       "2      ایران در برابر قطعنامه‌های آژانس سکوت نمی‌کند ...   \n",
       "3      اینفوگرافیک | اصلاحات قانون به‌کارگیری اسلحه چ...   \n",
       "4                 پیام تبریک رئیسی به رییس‌جمهور فیلیپین   \n",
       "...                                                  ...   \n",
       "14871  عکس | ۲ ستاره تیم ملی در میان برترین گلزنان مق...   \n",
       "14872  عکس| ۲۷ تیم راه یافته به جام جهانی | ۵ تیم باق...   \n",
       "14873  عکس | برد پرگل برزیل در شب خداحافظی کلمبیا و ش...   \n",
       "14874  خداحافظی غم انگیز کی روش با تیم ملی مصر | رنج ...   \n",
       "14875  سیدبندی ایران در جام جهانی مشخص شد | قرعه احتم...   \n",
       "\n",
       "                                                 content  \\\n",
       "0      به گزارش همشهری آنلاین، روزنامه فرهیختگان در ش...   \n",
       "1      همشهری‌آنلاین- امیرمحمدحسینی: اصلاحیه قانون به...   \n",
       "2      به گزارش همشهری‌آنلاین، فدا حسین مالکی در مورد...   \n",
       "3      ЩҮЩ…ШҙЩҮШұЫҢ ШўЩҶЩ„Ш§ЫҢЩҶ - Ш§Щ…ЫҢШұЩ…ШӯЩ…ШҜ Ш...   \n",
       "4      به گزارش همشهری‌آنلاین، آیت‌الله سید ابراهیم ر...   \n",
       "...                                                  ...   \n",
       "14871  به گزارش همشهری آنلاین مسابقات مقدماتی جام جها...   \n",
       "14872  به گزارش همشهری آنلاین با صعود پرتغال و لهستان...   \n",
       "14873  به گزارش همشهری آنلاین مسابقات مقدماتی جام جها...   \n",
       "14874  به گزارش همشهری آنلاین تیم ملی مصر در مصاف با ...   \n",
       "14875  به گزارش همشهری آنلاین با پایان تقریبی رقابت‌ه...   \n",
       "\n",
       "                                           word_tokenize  \n",
       "0      [گزارش, همشهری, آنلاین, روزنامه, فرهیختگان, شم...  \n",
       "1      [همشهری‌آنلاین-, امیرمحمدحسینی, اصلاحیه, قانون...  \n",
       "2      [گزارش, همشهری‌آنلاین, فدا, حسین, مالکی, قطعنا...  \n",
       "3      [ЩҮЩ…ШҙЩҮШұЫҢ, ШўЩҶЩ„Ш§ЫҢЩҶ, Ш§Щ…ЫҢШұЩ…ШӯЩ…ШҜ,...  \n",
       "4      [گزارش, همشهری‌آنلاین, آیت‌الله, سید, ابراهیم,...  \n",
       "...                                                  ...  \n",
       "14871  [گزارش, همشهری, آنلاین, مسابقات, مقدماتی, جام,...  \n",
       "14872  [گزارش, همشهری, آنلاین, صعود, پرتغال, لهستان, ...  \n",
       "14873  [گزارش, همشهری, آنلاین, مسابقات, مقدماتی, جام,...  \n",
       "14874  [گزارش, همشهری, آنلاین, تیم, ملی, مصر, مصاف, س...  \n",
       "14875  [گزارش, همشهری, آنلاین, پایان, تقریبی, رقابت‌ه...  \n",
       "\n",
       "[14876 rows x 3 columns]"
      ]
     },
     "execution_count": 8,
     "metadata": {},
     "output_type": "execute_result"
    }
   ],
   "source": [
    "removed_tokenized_words = []\n",
    "for per_content_words in tokenized_words:\n",
    "  words = []\n",
    "  for word in per_content_words:\n",
    "    if word not in stopwords + new_stopwords:\n",
    "      words.append(word)\n",
    "  removed_tokenized_words.append(words)\n",
    "\n",
    "news_df['word_tokenize'] = removed_tokenized_words\n",
    "news_df"
   ]
  },
  {
   "cell_type": "code",
   "execution_count": 9,
   "metadata": {
    "id": "kpSe-OlKTOiG"
   },
   "outputs": [],
   "source": [
    "def create_dataframe_least_freq(news_dict):\n",
    "    news_tokens = {}\n",
    "    for idx, value in tqdm.tqdm(news_dict.items()):\n",
    "        news_tokens[idx] = FreqDist(value).most_common()[-10:]\n",
    "    df = pd.DataFrame.from_dict(news_tokens, orient='index')\n",
    "    return df.transpose()\n",
    "\n",
    "def create_dataframe_most_freq(news_dict):\n",
    "    news_tokens = {}\n",
    "    for idx, value in tqdm.tqdm(news_dict.items()):\n",
    "        news_tokens[idx] = FreqDist(value).most_common(10)\n",
    "    df = pd.DataFrame.from_dict(news_tokens, orient='index')\n",
    "    return df.transpose()"
   ]
  },
  {
   "cell_type": "code",
   "execution_count": 10,
   "metadata": {
    "colab": {
     "base_uri": "https://localhost:8080/"
    },
    "id": "qpes6tD_TjYl",
    "outputId": "b04b3263-99a7-4a38-d910-f48169044b18"
   },
   "outputs": [
    {
     "name": "stderr",
     "output_type": "stream",
     "text": [
      "100%|███████████████████████████████████| 14876/14876 [00:01<00:00, 8643.21it/s]\n",
      "100%|███████████████████████████████████| 14876/14876 [00:01<00:00, 7553.08it/s]\n"
     ]
    }
   ],
   "source": [
    "tokenized_news = {}\n",
    "for idx,news in news_df.iterrows():\n",
    "  tokenized_news[idx] = news.word_tokenize\n",
    "\n",
    "least_freq_df = create_dataframe_least_freq(tokenized_news)\n",
    "most_freq_df = create_dataframe_most_freq(tokenized_news)"
   ]
  },
  {
   "cell_type": "code",
   "execution_count": 11,
   "metadata": {
    "id": "aS1AUmyrUMXK"
   },
   "outputs": [],
   "source": [
    "stemmer = Stemmer()\n",
    "lemmatizer = Lemmatizer()\n",
    "\n",
    "def get_lemma_set(tok, opt=1):\n",
    "    if opt == 1:\n",
    "        return stemmer.stem(tok)\n",
    "    if opt == 2:\n",
    "        return lemmatizer.lemmatize(tok)"
   ]
  },
  {
   "cell_type": "code",
   "execution_count": 12,
   "metadata": {
    "id": "uKKhvVqFUSUJ"
   },
   "outputs": [],
   "source": [
    "opt = 2\n",
    "lemmatize_stemming_words = []\n",
    "for per_content_words in news_df.word_tokenize:\n",
    "  words = []\n",
    "  for word in per_content_words:\n",
    "    words.append(get_lemma_set(word,opt))\n",
    "  lemmatize_stemming_words.append(words)\n",
    "news_df['word_lemmatize'] = lemmatize_stemming_words"
   ]
  },
  {
   "cell_type": "code",
   "execution_count": 13,
   "metadata": {
    "colab": {
     "base_uri": "https://localhost:8080/",
     "height": 424
    },
    "id": "wNDLW0x2U-XX",
    "outputId": "9c099071-9673-48a4-f48a-43f942919feb"
   },
   "outputs": [
    {
     "data": {
      "text/html": [
       "<div>\n",
       "<style scoped>\n",
       "    .dataframe tbody tr th:only-of-type {\n",
       "        vertical-align: middle;\n",
       "    }\n",
       "\n",
       "    .dataframe tbody tr th {\n",
       "        vertical-align: top;\n",
       "    }\n",
       "\n",
       "    .dataframe thead th {\n",
       "        text-align: right;\n",
       "    }\n",
       "</style>\n",
       "<table border=\"1\" class=\"dataframe\">\n",
       "  <thead>\n",
       "    <tr style=\"text-align: right;\">\n",
       "      <th></th>\n",
       "      <th>title</th>\n",
       "      <th>content</th>\n",
       "      <th>clean_keyword</th>\n",
       "    </tr>\n",
       "  </thead>\n",
       "  <tbody>\n",
       "    <tr>\n",
       "      <th>0</th>\n",
       "      <td>هاشمی: هماهنگ کردم آزمون خبرگان را از حسن روحا...</td>\n",
       "      <td>به گزارش همشهری آنلاین، روزنامه فرهیختگان در ش...</td>\n",
       "      <td>گزارش,همشهری,آنلاین,روزنامه,فرهیختگان,شماره,ام...</td>\n",
       "    </tr>\n",
       "    <tr>\n",
       "      <th>1</th>\n",
       "      <td>اصلاح قانون  اسلحه از کجا کلید خورد؟ ا  مامور ...</td>\n",
       "      <td>همشهری‌آنلاین- امیرمحمدحسینی: اصلاحیه قانون به...</td>\n",
       "      <td>همشهری‌آنلاین,امیرمحمدحسینی,اصلاحیه,قانون,کارگ...</td>\n",
       "    </tr>\n",
       "    <tr>\n",
       "      <th>2</th>\n",
       "      <td>ایران در برابر قطعنامه‌های آژانس سکوت نمی‌کند ...</td>\n",
       "      <td>به گزارش همشهری‌آنلاین، فدا حسین مالکی در مورد...</td>\n",
       "      <td>گزارش,همشهری‌آنلاین,فدا,حسین,مالکی,قطعنامه,ضد,...</td>\n",
       "    </tr>\n",
       "    <tr>\n",
       "      <th>3</th>\n",
       "      <td>اینفوگرافیک | اصلاحات قانون به‌کارگیری اسلحه چ...</td>\n",
       "      <td>ЩҮЩ…ШҙЩҮШұЫҢ ШўЩҶЩ„Ш§ЫҢЩҶ - Ш§Щ…ЫҢШұЩ…ШӯЩ…ШҜ Ш...</td>\n",
       "      <td>ЩҮЩ…ШҙЩҮШұЫҢ,ШўЩҶЩ„Ш§ЫҢЩҶ,Ш§Щ…ЫҢШұЩ…ШӯЩ…ШҜ,ШӯШ...</td>\n",
       "    </tr>\n",
       "    <tr>\n",
       "      <th>4</th>\n",
       "      <td>پیام تبریک رئیسی به رییس‌جمهور فیلیپین</td>\n",
       "      <td>به گزارش همشهری‌آنلاین، آیت‌الله سید ابراهیم ر...</td>\n",
       "      <td>گزارش,همشهری‌آنلاین,آیت‌الله,سید,ابراهیم,رییس,...</td>\n",
       "    </tr>\n",
       "    <tr>\n",
       "      <th>...</th>\n",
       "      <td>...</td>\n",
       "      <td>...</td>\n",
       "      <td>...</td>\n",
       "    </tr>\n",
       "    <tr>\n",
       "      <th>14871</th>\n",
       "      <td>عکس | ۲ ستاره تیم ملی در میان برترین گلزنان مق...</td>\n",
       "      <td>به گزارش همشهری آنلاین مسابقات مقدماتی جام جها...</td>\n",
       "      <td>گزارش,همشهری,آنلاین,مسابقات,مقدمات,جام,جهانی,۲...</td>\n",
       "    </tr>\n",
       "    <tr>\n",
       "      <th>14872</th>\n",
       "      <td>عکس| ۲۷ تیم راه یافته به جام جهانی | ۵ تیم باق...</td>\n",
       "      <td>به گزارش همشهری آنلاین با صعود پرتغال و لهستان...</td>\n",
       "      <td>گزارش,همشهری,آنلاین,صعود,پرتغال,لهستان,۵,تیم,آ...</td>\n",
       "    </tr>\n",
       "    <tr>\n",
       "      <th>14873</th>\n",
       "      <td>عکس | برد پرگل برزیل در شب خداحافظی کلمبیا و ش...</td>\n",
       "      <td>به گزارش همشهری آنلاین مسابقات مقدماتی جام جها...</td>\n",
       "      <td>گزارش,همشهری,آنلاین,مسابقات,مقدمات,جام,جهانی,۲...</td>\n",
       "    </tr>\n",
       "    <tr>\n",
       "      <th>14874</th>\n",
       "      <td>خداحافظی غم انگیز کی روش با تیم ملی مصر | رنج ...</td>\n",
       "      <td>به گزارش همشهری آنلاین تیم ملی مصر در مصاف با ...</td>\n",
       "      <td>گزارش,همشهری,آنلاین,تیم,ملی,مصر,مصاف,سنگال,تسا...</td>\n",
       "    </tr>\n",
       "    <tr>\n",
       "      <th>14875</th>\n",
       "      <td>سیدبندی ایران در جام جهانی مشخص شد | قرعه احتم...</td>\n",
       "      <td>به گزارش همشهری آنلاین با پایان تقریبی رقابت‌ه...</td>\n",
       "      <td>گزارش,همشهری,آنلاین,پایان,تقریب,رقابت,انتخاب,ج...</td>\n",
       "    </tr>\n",
       "  </tbody>\n",
       "</table>\n",
       "<p>14876 rows × 3 columns</p>\n",
       "</div>"
      ],
      "text/plain": [
       "                                                   title  \\\n",
       "0      هاشمی: هماهنگ کردم آزمون خبرگان را از حسن روحا...   \n",
       "1      اصلاح قانون  اسلحه از کجا کلید خورد؟ ا  مامور ...   \n",
       "2      ایران در برابر قطعنامه‌های آژانس سکوت نمی‌کند ...   \n",
       "3      اینفوگرافیک | اصلاحات قانون به‌کارگیری اسلحه چ...   \n",
       "4                 پیام تبریک رئیسی به رییس‌جمهور فیلیپین   \n",
       "...                                                  ...   \n",
       "14871  عکس | ۲ ستاره تیم ملی در میان برترین گلزنان مق...   \n",
       "14872  عکس| ۲۷ تیم راه یافته به جام جهانی | ۵ تیم باق...   \n",
       "14873  عکس | برد پرگل برزیل در شب خداحافظی کلمبیا و ش...   \n",
       "14874  خداحافظی غم انگیز کی روش با تیم ملی مصر | رنج ...   \n",
       "14875  سیدبندی ایران در جام جهانی مشخص شد | قرعه احتم...   \n",
       "\n",
       "                                                 content  \\\n",
       "0      به گزارش همشهری آنلاین، روزنامه فرهیختگان در ش...   \n",
       "1      همشهری‌آنلاین- امیرمحمدحسینی: اصلاحیه قانون به...   \n",
       "2      به گزارش همشهری‌آنلاین، فدا حسین مالکی در مورد...   \n",
       "3      ЩҮЩ…ШҙЩҮШұЫҢ ШўЩҶЩ„Ш§ЫҢЩҶ - Ш§Щ…ЫҢШұЩ…ШӯЩ…ШҜ Ш...   \n",
       "4      به گزارش همشهری‌آنلاین، آیت‌الله سید ابراهیم ر...   \n",
       "...                                                  ...   \n",
       "14871  به گزارش همشهری آنلاین مسابقات مقدماتی جام جها...   \n",
       "14872  به گزارش همشهری آنلاین با صعود پرتغال و لهستان...   \n",
       "14873  به گزارش همشهری آنلاین مسابقات مقدماتی جام جها...   \n",
       "14874  به گزارش همشهری آنلاین تیم ملی مصر در مصاف با ...   \n",
       "14875  به گزارش همشهری آنلاین با پایان تقریبی رقابت‌ه...   \n",
       "\n",
       "                                           clean_keyword  \n",
       "0      گزارش,همشهری,آنلاین,روزنامه,فرهیختگان,شماره,ام...  \n",
       "1      همشهری‌آنلاین,امیرمحمدحسینی,اصلاحیه,قانون,کارگ...  \n",
       "2      گزارش,همشهری‌آنلاین,فدا,حسین,مالکی,قطعنامه,ضد,...  \n",
       "3      ЩҮЩ…ШҙЩҮШұЫҢ,ШўЩҶЩ„Ш§ЫҢЩҶ,Ш§Щ…ЫҢШұЩ…ШӯЩ…ШҜ,ШӯШ...  \n",
       "4      گزارش,همشهری‌آنلاین,آیت‌الله,سید,ابراهیم,رییس,...  \n",
       "...                                                  ...  \n",
       "14871  گزارش,همشهری,آنلاین,مسابقات,مقدمات,جام,جهانی,۲...  \n",
       "14872  گزارش,همشهری,آنلاین,صعود,پرتغال,لهستان,۵,تیم,آ...  \n",
       "14873  گزارش,همشهری,آنلاین,مسابقات,مقدمات,جام,جهانی,۲...  \n",
       "14874  گزارش,همشهری,آنلاین,تیم,ملی,مصر,مصاف,سنگال,تسا...  \n",
       "14875  گزارش,همشهری,آنلاین,پایان,تقریب,رقابت,انتخاب,ج...  \n",
       "\n",
       "[14876 rows x 3 columns]"
      ]
     },
     "execution_count": 13,
     "metadata": {},
     "output_type": "execute_result"
    }
   ],
   "source": [
    "words = []\n",
    "persian_numbers = ['۱','۲','۳','۴','۵','۶','۷','۸','۹']\n",
    "for row_words in news_df['word_lemmatize']:\n",
    "    final_words = ','.join(row_words)\n",
    "    final_words = final_words.replace('-','')\n",
    "    for persian_num in persian_numbers:\n",
    "        if persian_num in list(final_words):\n",
    "            final_words.replace(persian_num, '')     \n",
    "    words.append(final_words)\n",
    "news_df['clean_keyword'] = words\n",
    "news_df = news_df.drop(['word_tokenize','word_lemmatize'],axis=1)\n",
    "news_df"
   ]
  },
  {
   "cell_type": "code",
   "execution_count": 14,
   "metadata": {
    "colab": {
     "base_uri": "https://localhost:8080/",
     "height": 1000
    },
    "id": "ogs9csX5Vq8F",
    "outputId": "ed1daa28-362e-49c3-905b-d0667e2265ab"
   },
   "outputs": [
    {
     "data": {
      "text/html": [
       "<div>\n",
       "<style scoped>\n",
       "    .dataframe tbody tr th:only-of-type {\n",
       "        vertical-align: middle;\n",
       "    }\n",
       "\n",
       "    .dataframe tbody tr th {\n",
       "        vertical-align: top;\n",
       "    }\n",
       "\n",
       "    .dataframe thead th {\n",
       "        text-align: right;\n",
       "    }\n",
       "</style>\n",
       "<table border=\"1\" class=\"dataframe\">\n",
       "  <thead>\n",
       "    <tr style=\"text-align: right;\">\n",
       "      <th></th>\n",
       "      <th>title</th>\n",
       "      <th>content</th>\n",
       "      <th>clean_keyword</th>\n",
       "      <th>clean_keywords_non_least_freq</th>\n",
       "      <th>clean_keywords_non_most_freq</th>\n",
       "    </tr>\n",
       "  </thead>\n",
       "  <tbody>\n",
       "    <tr>\n",
       "      <th>0</th>\n",
       "      <td>هاشمی: هماهنگ کردم آزمون خبرگان را از حسن روحا...</td>\n",
       "      <td>به گزارش همشهری آنلاین، روزنامه فرهیختگان در ش...</td>\n",
       "      <td>گزارش,همشهری,آنلاین,روزنامه,فرهیختگان,شماره,ام...</td>\n",
       "      <td>گزارش,همشهری,آنلاین,روزنامه,فرهیختگان,شماره,ام...</td>\n",
       "      <td>گزارش,همشهری,آنلاین,روزنامه,فرهیختگان,شماره,ام...</td>\n",
       "    </tr>\n",
       "    <tr>\n",
       "      <th>1</th>\n",
       "      <td>اصلاح قانون  اسلحه از کجا کلید خورد؟ ا  مامور ...</td>\n",
       "      <td>همشهری‌آنلاین- امیرمحمدحسینی: اصلاحیه قانون به...</td>\n",
       "      <td>همشهری‌آنلاین,امیرمحمدحسینی,اصلاحیه,قانون,کارگ...</td>\n",
       "      <td>همشهری‌آنلاین,امیرمحمدحسینی,اصلاحیه,قانون,کارگ...</td>\n",
       "      <td>همشهری‌آنلاین,امیرمحمدحسینی,اصلاحیه,قانون,کارگ...</td>\n",
       "    </tr>\n",
       "    <tr>\n",
       "      <th>2</th>\n",
       "      <td>ایران در برابر قطعنامه‌های آژانس سکوت نمی‌کند ...</td>\n",
       "      <td>به گزارش همشهری‌آنلاین، فدا حسین مالکی در مورد...</td>\n",
       "      <td>گزارش,همشهری‌آنلاین,فدا,حسین,مالکی,قطعنامه,ضد,...</td>\n",
       "      <td>گزارش,همشهری‌آنلاین,فدا,حسین,مالکی,قطعنامه,ضد,...</td>\n",
       "      <td>گزارش,همشهری‌آنلاین,فدا,حسین,مالکی,قطعنامه,ضد,...</td>\n",
       "    </tr>\n",
       "    <tr>\n",
       "      <th>3</th>\n",
       "      <td>اینفوگرافیک | اصلاحات قانون به‌کارگیری اسلحه چ...</td>\n",
       "      <td>ЩҮЩ…ШҙЩҮШұЫҢ ШўЩҶЩ„Ш§ЫҢЩҶ - Ш§Щ…ЫҢШұЩ…ШӯЩ…ШҜ Ш...</td>\n",
       "      <td>ЩҮЩ…ШҙЩҮШұЫҢ,ШўЩҶЩ„Ш§ЫҢЩҶ,Ш§Щ…ЫҢШұЩ…ШӯЩ…ШҜ,ШӯШ...</td>\n",
       "      <td>ЩҮЩ…ШҙЩҮШұЫҢ,ШўЩҶЩ„Ш§ЫҢЩҶ,Ш§Щ…ЫҢШұЩ…ШӯЩ…ШҜ,ШӯШ...</td>\n",
       "      <td>ЩҮЩ…ШҙЩҮШұЫҢ,ШўЩҶЩ„Ш§ЫҢЩҶ,Ш§Щ…ЫҢШұЩ…ШӯЩ…ШҜ,ШӯШ...</td>\n",
       "    </tr>\n",
       "    <tr>\n",
       "      <th>4</th>\n",
       "      <td>پیام تبریک رئیسی به رییس‌جمهور فیلیپین</td>\n",
       "      <td>به گزارش همشهری‌آنلاین، آیت‌الله سید ابراهیم ر...</td>\n",
       "      <td>گزارش,همشهری‌آنلاین,آیت‌الله,سید,ابراهیم,رییس,...</td>\n",
       "      <td>گزارش,همشهری‌آنلاین,آیت‌الله,سید,ابراهیم,رییس,...</td>\n",
       "      <td>گزارش,همشهری‌آنلاین,آیت‌الله,سید,ابراهیم,رییس,...</td>\n",
       "    </tr>\n",
       "    <tr>\n",
       "      <th>...</th>\n",
       "      <td>...</td>\n",
       "      <td>...</td>\n",
       "      <td>...</td>\n",
       "      <td>...</td>\n",
       "      <td>...</td>\n",
       "    </tr>\n",
       "    <tr>\n",
       "      <th>14871</th>\n",
       "      <td>عکس | ۲ ستاره تیم ملی در میان برترین گلزنان مق...</td>\n",
       "      <td>به گزارش همشهری آنلاین مسابقات مقدماتی جام جها...</td>\n",
       "      <td>گزارش,همشهری,آنلاین,مسابقات,مقدمات,جام,جهانی,۲...</td>\n",
       "      <td>گزارش,همشهری,آنلاین,مسابقات,مقدمات,جام,جهانی,۲...</td>\n",
       "      <td>گزارش,همشهری,آنلاین,مسابقات,مقدمات,جام,جهانی,۲...</td>\n",
       "    </tr>\n",
       "    <tr>\n",
       "      <th>14872</th>\n",
       "      <td>عکس| ۲۷ تیم راه یافته به جام جهانی | ۵ تیم باق...</td>\n",
       "      <td>به گزارش همشهری آنلاین با صعود پرتغال و لهستان...</td>\n",
       "      <td>گزارش,همشهری,آنلاین,صعود,پرتغال,لهستان,۵,تیم,آ...</td>\n",
       "      <td>گزارش,همشهری,آنلاین,صعود,پرتغال,لهستان,۵,تیم,آ...</td>\n",
       "      <td>گزارش,همشهری,آنلاین,صعود,پرتغال,لهستان,۵,تیم,آ...</td>\n",
       "    </tr>\n",
       "    <tr>\n",
       "      <th>14873</th>\n",
       "      <td>عکس | برد پرگل برزیل در شب خداحافظی کلمبیا و ش...</td>\n",
       "      <td>به گزارش همشهری آنلاین مسابقات مقدماتی جام جها...</td>\n",
       "      <td>گزارش,همشهری,آنلاین,مسابقات,مقدمات,جام,جهانی,۲...</td>\n",
       "      <td>گزارش,همشهری,آنلاین,مسابقات,مقدمات,جام,جهانی,۲...</td>\n",
       "      <td>گزارش,همشهری,آنلاین,مسابقات,مقدمات,جام,جهانی,۲...</td>\n",
       "    </tr>\n",
       "    <tr>\n",
       "      <th>14874</th>\n",
       "      <td>خداحافظی غم انگیز کی روش با تیم ملی مصر | رنج ...</td>\n",
       "      <td>به گزارش همشهری آنلاین تیم ملی مصر در مصاف با ...</td>\n",
       "      <td>گزارش,همشهری,آنلاین,تیم,ملی,مصر,مصاف,سنگال,تسا...</td>\n",
       "      <td>گزارش,همشهری,آنلاین,تیم,ملی,مصر,مصاف,سنگال,تسا...</td>\n",
       "      <td>گزارش,همشهری,آنلاین,تیم,ملی,مصر,مصاف,سنگال,تسا...</td>\n",
       "    </tr>\n",
       "    <tr>\n",
       "      <th>14875</th>\n",
       "      <td>سیدبندی ایران در جام جهانی مشخص شد | قرعه احتم...</td>\n",
       "      <td>به گزارش همشهری آنلاین با پایان تقریبی رقابت‌ه...</td>\n",
       "      <td>گزارش,همشهری,آنلاین,پایان,تقریب,رقابت,انتخاب,ج...</td>\n",
       "      <td>گزارش,همشهری,آنلاین,پایان,تقریب,رقابت,انتخاب,ج...</td>\n",
       "      <td>گزارش,همشهری,آنلاین,پایان,تقریب,رقابت,انتخاب,ج...</td>\n",
       "    </tr>\n",
       "  </tbody>\n",
       "</table>\n",
       "<p>14876 rows × 5 columns</p>\n",
       "</div>"
      ],
      "text/plain": [
       "                                                   title  \\\n",
       "0      هاشمی: هماهنگ کردم آزمون خبرگان را از حسن روحا...   \n",
       "1      اصلاح قانون  اسلحه از کجا کلید خورد؟ ا  مامور ...   \n",
       "2      ایران در برابر قطعنامه‌های آژانس سکوت نمی‌کند ...   \n",
       "3      اینفوگرافیک | اصلاحات قانون به‌کارگیری اسلحه چ...   \n",
       "4                 پیام تبریک رئیسی به رییس‌جمهور فیلیپین   \n",
       "...                                                  ...   \n",
       "14871  عکس | ۲ ستاره تیم ملی در میان برترین گلزنان مق...   \n",
       "14872  عکس| ۲۷ تیم راه یافته به جام جهانی | ۵ تیم باق...   \n",
       "14873  عکس | برد پرگل برزیل در شب خداحافظی کلمبیا و ش...   \n",
       "14874  خداحافظی غم انگیز کی روش با تیم ملی مصر | رنج ...   \n",
       "14875  سیدبندی ایران در جام جهانی مشخص شد | قرعه احتم...   \n",
       "\n",
       "                                                 content  \\\n",
       "0      به گزارش همشهری آنلاین، روزنامه فرهیختگان در ش...   \n",
       "1      همشهری‌آنلاین- امیرمحمدحسینی: اصلاحیه قانون به...   \n",
       "2      به گزارش همشهری‌آنلاین، فدا حسین مالکی در مورد...   \n",
       "3      ЩҮЩ…ШҙЩҮШұЫҢ ШўЩҶЩ„Ш§ЫҢЩҶ - Ш§Щ…ЫҢШұЩ…ШӯЩ…ШҜ Ш...   \n",
       "4      به گزارش همشهری‌آنلاین، آیت‌الله سید ابراهیم ر...   \n",
       "...                                                  ...   \n",
       "14871  به گزارش همشهری آنلاین مسابقات مقدماتی جام جها...   \n",
       "14872  به گزارش همشهری آنلاین با صعود پرتغال و لهستان...   \n",
       "14873  به گزارش همشهری آنلاین مسابقات مقدماتی جام جها...   \n",
       "14874  به گزارش همشهری آنلاین تیم ملی مصر در مصاف با ...   \n",
       "14875  به گزارش همشهری آنلاین با پایان تقریبی رقابت‌ه...   \n",
       "\n",
       "                                           clean_keyword  \\\n",
       "0      گزارش,همشهری,آنلاین,روزنامه,فرهیختگان,شماره,ام...   \n",
       "1      همشهری‌آنلاین,امیرمحمدحسینی,اصلاحیه,قانون,کارگ...   \n",
       "2      گزارش,همشهری‌آنلاین,فدا,حسین,مالکی,قطعنامه,ضد,...   \n",
       "3      ЩҮЩ…ШҙЩҮШұЫҢ,ШўЩҶЩ„Ш§ЫҢЩҶ,Ш§Щ…ЫҢШұЩ…ШӯЩ…ШҜ,ШӯШ...   \n",
       "4      گزارش,همشهری‌آنلاین,آیت‌الله,سید,ابراهیم,رییس,...   \n",
       "...                                                  ...   \n",
       "14871  گزارش,همشهری,آنلاین,مسابقات,مقدمات,جام,جهانی,۲...   \n",
       "14872  گزارش,همشهری,آنلاین,صعود,پرتغال,لهستان,۵,تیم,آ...   \n",
       "14873  گزارش,همشهری,آنلاین,مسابقات,مقدمات,جام,جهانی,۲...   \n",
       "14874  گزارش,همشهری,آنلاین,تیم,ملی,مصر,مصاف,سنگال,تسا...   \n",
       "14875  گزارش,همشهری,آنلاین,پایان,تقریب,رقابت,انتخاب,ج...   \n",
       "\n",
       "                           clean_keywords_non_least_freq  \\\n",
       "0      گزارش,همشهری,آنلاین,روزنامه,فرهیختگان,شماره,ام...   \n",
       "1      همشهری‌آنلاین,امیرمحمدحسینی,اصلاحیه,قانون,کارگ...   \n",
       "2      گزارش,همشهری‌آنلاین,فدا,حسین,مالکی,قطعنامه,ضد,...   \n",
       "3      ЩҮЩ…ШҙЩҮШұЫҢ,ШўЩҶЩ„Ш§ЫҢЩҶ,Ш§Щ…ЫҢШұЩ…ШӯЩ…ШҜ,ШӯШ...   \n",
       "4      گزارش,همشهری‌آنلاین,آیت‌الله,سید,ابراهیم,رییس,...   \n",
       "...                                                  ...   \n",
       "14871  گزارش,همشهری,آنلاین,مسابقات,مقدمات,جام,جهانی,۲...   \n",
       "14872  گزارش,همشهری,آنلاین,صعود,پرتغال,لهستان,۵,تیم,آ...   \n",
       "14873  گزارش,همشهری,آنلاین,مسابقات,مقدمات,جام,جهانی,۲...   \n",
       "14874  گزارش,همشهری,آنلاین,تیم,ملی,مصر,مصاف,سنگال,تسا...   \n",
       "14875  گزارش,همشهری,آنلاین,پایان,تقریب,رقابت,انتخاب,ج...   \n",
       "\n",
       "                            clean_keywords_non_most_freq  \n",
       "0      گزارش,همشهری,آنلاین,روزنامه,فرهیختگان,شماره,ام...  \n",
       "1      همشهری‌آنلاین,امیرمحمدحسینی,اصلاحیه,قانون,کارگ...  \n",
       "2      گزارش,همشهری‌آنلاین,فدا,حسین,مالکی,قطعنامه,ضد,...  \n",
       "3      ЩҮЩ…ШҙЩҮШұЫҢ,ШўЩҶЩ„Ш§ЫҢЩҶ,Ш§Щ…ЫҢШұЩ…ШӯЩ…ШҜ,ШӯШ...  \n",
       "4      گزارش,همشهری‌آنلاین,آیت‌الله,سید,ابراهیم,رییس,...  \n",
       "...                                                  ...  \n",
       "14871  گزارش,همشهری,آنلاین,مسابقات,مقدمات,جام,جهانی,۲...  \n",
       "14872  گزارش,همشهری,آنلاین,صعود,پرتغال,لهستان,۵,تیم,آ...  \n",
       "14873  گزارش,همشهری,آنلاین,مسابقات,مقدمات,جام,جهانی,۲...  \n",
       "14874  گزارش,همشهری,آنلاین,تیم,ملی,مصر,مصاف,سنگال,تسا...  \n",
       "14875  گزارش,همشهری,آنلاین,پایان,تقریب,رقابت,انتخاب,ج...  \n",
       "\n",
       "[14876 rows x 5 columns]"
      ]
     },
     "execution_count": 14,
     "metadata": {},
     "output_type": "execute_result"
    }
   ],
   "source": [
    "clean_keywords_non_least_frequent = []\n",
    "for idx,per_final_news in news_df.iterrows():\n",
    "  for jdx, per_freq in least_freq_df.iterrows():\n",
    "    try:\n",
    "      word = least_freq_df.iloc[jdx,int(idx)]\n",
    "      removed = per_final_news.clean_keyword\n",
    "      if word is not None:\n",
    "        word = word[0]\n",
    "        removed = removed.replace(word,'')\n",
    "    except Exception as e:\n",
    "      continue\n",
    "  clean_keywords_non_least_frequent.append(removed)\n",
    "\n",
    "clean_keywords_non_most_frequent = []\n",
    "for idx,per_final_news in news_df.iterrows():\n",
    "  for jdx, per_freq in most_freq_df.iterrows():\n",
    "    try:\n",
    "      word = most_freq_df.iloc[jdx,int(idx)]\n",
    "      removed = per_final_news.clean_keyword\n",
    "      if word is not None:\n",
    "        word = word[0]\n",
    "        removed = removed.replace(word,'')\n",
    "    except Exception as e:\n",
    "      continue\n",
    "  clean_keywords_non_most_frequent.append(removed)\n",
    "\n",
    "news_df['clean_keywords_non_least_freq'] = clean_keywords_non_least_frequent\n",
    "news_df['clean_keywords_non_most_freq'] = clean_keywords_non_least_frequent\n",
    "news_df"
   ]
  },
  {
   "cell_type": "markdown",
   "metadata": {
    "id": "pHwk3sovhmn7"
   },
   "source": [
    "### Inputs and constanst"
   ]
  },
  {
   "cell_type": "code",
   "execution_count": 15,
   "metadata": {
    "id": "Opn-2YKtYp8_"
   },
   "outputs": [],
   "source": [
    "DOC_RELATED_NUM = 10\n",
    "query = 'استقلال پرسپولیس' \n",
    "query_words = query.split(\" \")"
   ]
  },
  {
   "cell_type": "markdown",
   "metadata": {
    "id": "vJHfYcOdqZAM"
   },
   "source": [
    "### Query expansion"
   ]
  },
  {
   "cell_type": "code",
   "execution_count": 16,
   "metadata": {
    "colab": {
     "base_uri": "https://localhost:8080/"
    },
    "id": "k27aP18lqLSZ",
    "outputId": "97b83f46-7d62-4b25-c1b0-aca66bf5cd8f"
   },
   "outputs": [
    {
     "name": "stderr",
     "output_type": "stream",
     "text": [
      "Warning : `load_model` does not return WordVectorModel or SupervisedModel any more, but a `FastText` object which is very similar.\n"
     ]
    }
   ],
   "source": [
    "fasttext_model_loaded = fasttext.load_model('../models/QE_fasttext/fasttext.bin')"
   ]
  },
  {
   "cell_type": "code",
   "execution_count": 17,
   "metadata": {
    "id": "kidBc-eiqLSZ"
   },
   "outputs": [],
   "source": [
    "lines = ''\n",
    "with open('../models/QE_fasttext/fasttext_data.txt') as f:\n",
    "    lines = f.read()\n",
    "words = lines.split(\" \")"
   ]
  },
  {
   "cell_type": "code",
   "execution_count": 18,
   "metadata": {
    "id": "7BQQXeFTqLSZ"
   },
   "outputs": [],
   "source": [
    "word2vec = {}\n",
    "for word in words:\n",
    "    word2vec[word] = fasttext_model_loaded[word]"
   ]
  },
  {
   "cell_type": "code",
   "execution_count": 19,
   "metadata": {
    "id": "XRY8vEtwqLSZ"
   },
   "outputs": [],
   "source": [
    "import json\n",
    "import numpy as np\n",
    "\n",
    "class NumpyEncoder(json.JSONEncoder):\n",
    "    def default(self, obj):\n",
    "        if isinstance(obj, np.integer):\n",
    "            return int(obj)\n",
    "        elif isinstance(obj, np.floating):\n",
    "            return float(obj)\n",
    "        elif isinstance(obj, np.ndarray):\n",
    "            return obj.tolist()\n",
    "        return json.JSONEncoder.default(self, obj)\n",
    "        \n",
    "with open('../models/QE_fasttext/all_words_vectors_emb_fasttext.json', 'w', encoding=\"utf-8\") as f:\n",
    "    json.dump(word2vec, f, cls=NumpyEncoder)"
   ]
  },
  {
   "cell_type": "code",
   "execution_count": 20,
   "metadata": {
    "id": "WIBPCoEHqLSZ"
   },
   "outputs": [],
   "source": [
    "q_word2vec = {}\n",
    "for q_word in query_words:\n",
    "    q_word2vec[q_word] = fasttext_model_loaded[q_word]"
   ]
  },
  {
   "cell_type": "code",
   "execution_count": 21,
   "metadata": {
    "id": "R1QJ-BYAqLSa"
   },
   "outputs": [],
   "source": [
    "with open('../models/QE_fasttext/all_words_vectors_emb_fasttext.json', 'r', encoding=\"utf-8\") as f:\n",
    "  word2vec_loaded = json.loads(f.read())"
   ]
  },
  {
   "cell_type": "code",
   "execution_count": 22,
   "metadata": {
    "id": "KkV1-szIqLSa"
   },
   "outputs": [],
   "source": [
    "def expand_query(query_words, word2vec, cosine_threshold=0.9):\n",
    "    most_similar_query = ''\n",
    "    for q_word in query_words:\n",
    "        max_cosine_similarity = 0\n",
    "        most_similar_word = ''\n",
    "        for k, v in word2vec.items():\n",
    "            cosine_similarity = np.dot(np.array(v), np.array(q_word2vec[q_word])) / (np.linalg.norm(np.array(v)) * np.linalg.norm(np.array(q_word2vec[q_word])))\n",
    "            k = k.replace(\"\\u200e\", \"\")\n",
    "            k = k.replace(\"\\xad\",\"\")\n",
    "            k = k.replace(\"\\n\",\" \")\n",
    "            if cosine_similarity > max_cosine_similarity and k != q_word and cosine_similarity < cosine_threshold:\n",
    "                max_cosine_similarity = cosine_similarity\n",
    "                most_similar_word = k\n",
    "        most_similar_query = most_similar_query + \" \" + most_similar_word\n",
    "    return most_similar_query.strip()"
   ]
  },
  {
   "cell_type": "code",
   "execution_count": 23,
   "metadata": {
    "id": "swqzbeH1qLSa"
   },
   "outputs": [],
   "source": [
    "def expand_query_rochio(q_avg, nr_avg, r_avg):\n",
    "    temp_sum = np.sum([np.array(q_avg), r_avg],axis=0)\n",
    "    new_q_avg = np.subtract(temp_sum, nr_avg)\n",
    "    return new_q_avg"
   ]
  },
  {
   "cell_type": "markdown",
   "metadata": {
    "id": "SCIzZ9apauro"
   },
   "source": [
    "### Boolean retrieval"
   ]
  },
  {
   "cell_type": "code",
   "execution_count": 24,
   "metadata": {
    "id": "zngOdJg0qLSa"
   },
   "outputs": [],
   "source": [
    "def create_boolean_retrival_matrix(df, query_words):\n",
    "    boolean_retrival = [[0 for _ in range(len(query_words))] for __ in range(len(df))]\n",
    "    for i in range(len(df)):\n",
    "      keywords = df.iloc[i].clean_keyword\n",
    "      for j,q_word in enumerate(query_words):\n",
    "          if q_word in keywords.split(\",\"):\n",
    "              boolean_retrival[i][j] = 1\n",
    "    boolean_df = pd.DataFrame(boolean_retrival, columns = query_words) \n",
    "    return boolean_df\n",
    "\n",
    "def boolean_retirival_result(df):\n",
    "    converted_df = boolean_df.all(axis='columns')\n",
    "    converted_df = converted_df.to_frame('res')\n",
    "    boolean_related_docs_index = converted_df.index[converted_df['res'] == True].tolist()\n",
    "    boolean_related_titles = []\n",
    "    for idx in boolean_related_docs_index:\n",
    "      boolean_related_titles.append(news_df.iloc[idx,0])\n",
    "    boolean_related_titles = list(dict.fromkeys(boolean_related_titles))\n",
    "    return boolean_related_titles\n",
    "\n",
    "def boolean_print_results(related, num=DOC_RELATED_NUM):\n",
    "    for idx, title in enumerate(related[:num]):\n",
    "          print(f\"{idx+1}\\t{title}\")\n",
    "\n",
    "def boolean_merge_results(qe_results, raw_results, num=DOC_RELATED_NUM):\n",
    "    res = [*raw_results[:num], *qe_results[:num]]\n",
    "    res = list(dict.fromkeys(res))\n",
    "    for idx, title in enumerate(res):\n",
    "          print(f\"{idx+1}\\t{title}\")"
   ]
  },
  {
   "cell_type": "code",
   "execution_count": 25,
   "metadata": {
    "colab": {
     "base_uri": "https://localhost:8080/",
     "height": 424
    },
    "id": "0q47uycBYmkx",
    "outputId": "f5c541f6-a220-4e92-b517-67a4527d96d9"
   },
   "outputs": [
    {
     "name": "stdout",
     "output_type": "stream",
     "text": [
      "1\tعکس | «رئیسی» پرسپولیسی‌ است یا استقلالی؟\n",
      "2\tتصمیم جدید برای بازپرداخت بدهی‌های سرخابی‌ها\n",
      "3\tنماد سرخابی‌ها چه زمانی بازگشایی می شود؟ | استقلال در ثبت افزایش سرمایه از پرسپولیس پیشی گرفت\n",
      "4\tسهامداران بخوانند | ۴ سیگنال جدید برای بورس\n",
      "5\tعرضه بلوک‌های مدیریتی سرخابی‌ها به کجا رسید؟\n",
      "6\tسهامداران بخوانند | ۴ سیگنال جدید برای بورسی‌ها\n",
      "7\tکاپیتان ۲۲ساله تیم ملی فوتبال در زمان شهادت لباس ورزشی برتن داشت | «مارادونا»ی ایران در روز تولدش، «شهادت» هدیه گرفت\n",
      "8\tحضور پیشکسوتان استقلال و پرسپولیس در مسابقات ورزشی شهرداری تهران\n",
      "9\tخدمات‌رسانی مترو به تماشاگران بازی استقلال و پرسپولیس | مترو در روز دربی تا ساعت 22  فعالیت می‌کند\n",
      "10\tفیلم و عکس | رقابت ستارگان هنر ایران برای آزادسازی زندانیان دیه | تلاش کامبیز دیرباز تا پویا امینی و علی لهراسبی برای کمک به حبسی‌های خاص\n"
     ]
    }
   ],
   "source": [
    "boolean_df = create_boolean_retrival_matrix(news_df, query_words)\n",
    "boolean_related_titles = boolean_retirival_result(boolean_df)\n",
    "boolean_print_results(boolean_related_titles)"
   ]
  },
  {
   "cell_type": "code",
   "execution_count": 26,
   "metadata": {
    "id": "DQT3zQapqLSb",
    "outputId": "5003892f-e66e-49a7-a492-179fb08e9870"
   },
   "outputs": [
    {
     "name": "stderr",
     "output_type": "stream",
     "text": [
      "/var/folders/jl/n26nkxfn5fz5lng2zqgww5pr0000gn/T/ipykernel_2645/996594511.py:7: RuntimeWarning: invalid value encountered in double_scalars\n",
      "  cosine_similarity = np.dot(np.array(v), np.array(q_word2vec[q_word])) / (np.linalg.norm(np.array(v)) * np.linalg.norm(np.array(q_word2vec[q_word])))\n"
     ]
    },
    {
     "name": "stdout",
     "output_type": "stream",
     "text": [
      "1\tعکس | «رئیسی» پرسپولیسی‌ است یا استقلالی؟\n",
      "2\tتصمیم جدید برای بازپرداخت بدهی‌های سرخابی‌ها\n",
      "3\tنماد سرخابی‌ها چه زمانی بازگشایی می شود؟ | استقلال در ثبت افزایش سرمایه از پرسپولیس پیشی گرفت\n",
      "4\tسهامداران بخوانند | ۴ سیگنال جدید برای بورس\n",
      "5\tعرضه بلوک‌های مدیریتی سرخابی‌ها به کجا رسید؟\n",
      "6\tسهامداران بخوانند | ۴ سیگنال جدید برای بورسی‌ها\n",
      "7\tکاپیتان ۲۲ساله تیم ملی فوتبال در زمان شهادت لباس ورزشی برتن داشت | «مارادونا»ی ایران در روز تولدش، «شهادت» هدیه گرفت\n",
      "8\tحضور پیشکسوتان استقلال و پرسپولیس در مسابقات ورزشی شهرداری تهران\n",
      "9\tخدمات‌رسانی مترو به تماشاگران بازی استقلال و پرسپولیس | مترو در روز دربی تا ساعت 22  فعالیت می‌کند\n",
      "10\tفیلم و عکس | رقابت ستارگان هنر ایران برای آزادسازی زندانیان دیه | تلاش کامبیز دیرباز تا پویا امینی و علی لهراسبی برای کمک به حبسی‌های خاص\n"
     ]
    }
   ],
   "source": [
    "exapanded_query = expand_query(query_words, word2vec_loaded, 0.85)\n",
    "qe_boolean_df = create_boolean_retrival_matrix(news_df, exapanded_query.split(\" \"))\n",
    "qe_boolean_related_titles = boolean_retirival_result(qe_boolean_df)\n",
    "boolean_print_results(qe_boolean_related_titles)"
   ]
  },
  {
   "cell_type": "code",
   "execution_count": 27,
   "metadata": {
    "id": "tYCPU_7hqLSb",
    "outputId": "6d86c967-5183-4c6d-8ae0-627b878413aa"
   },
   "outputs": [
    {
     "name": "stdout",
     "output_type": "stream",
     "text": [
      "1\tعکس | «رئیسی» پرسپولیسی‌ است یا استقلالی؟\n",
      "2\tتصمیم جدید برای بازپرداخت بدهی‌های سرخابی‌ها\n",
      "3\tنماد سرخابی‌ها چه زمانی بازگشایی می شود؟ | استقلال در ثبت افزایش سرمایه از پرسپولیس پیشی گرفت\n",
      "4\tسهامداران بخوانند | ۴ سیگنال جدید برای بورس\n",
      "5\tعرضه بلوک‌های مدیریتی سرخابی‌ها به کجا رسید؟\n",
      "6\tسهامداران بخوانند | ۴ سیگنال جدید برای بورسی‌ها\n",
      "7\tکاپیتان ۲۲ساله تیم ملی فوتبال در زمان شهادت لباس ورزشی برتن داشت | «مارادونا»ی ایران در روز تولدش، «شهادت» هدیه گرفت\n",
      "8\tحضور پیشکسوتان استقلال و پرسپولیس در مسابقات ورزشی شهرداری تهران\n",
      "9\tخدمات‌رسانی مترو به تماشاگران بازی استقلال و پرسپولیس | مترو در روز دربی تا ساعت 22  فعالیت می‌کند\n",
      "10\tفیلم و عکس | رقابت ستارگان هنر ایران برای آزادسازی زندانیان دیه | تلاش کامبیز دیرباز تا پویا امینی و علی لهراسبی برای کمک به حبسی‌های خاص\n"
     ]
    }
   ],
   "source": [
    "boolean_merge_results(qe_boolean_related_titles,boolean_related_titles)"
   ]
  },
  {
   "cell_type": "markdown",
   "metadata": {
    "id": "9wT33MhebRiM"
   },
   "source": [
    "### TF-IDF retrieval"
   ]
  },
  {
   "cell_type": "code",
   "execution_count": 28,
   "metadata": {
    "id": "dN2LvA20qLSb"
   },
   "outputs": [],
   "source": [
    "def create_tf_idf_doc_term_matrix(df, tokenized_word):\n",
    "    vocabulary = set()\n",
    "    for doc in df.clean_keyword:\n",
    "        vocabulary.update(doc.split(','))\n",
    "    vocabulary = list(vocabulary)\n",
    "    \n",
    "    tfidf = TfidfVectorizer(vocabulary=vocabulary, use_idf = True, dtype=np.float32)\n",
    "    tfidf_tran = tfidf.fit_transform([' '.join(doc) for doc in tokenized_word])\n",
    "    return tfidf, tfidf_tran\n",
    "    \n",
    "def save_tf_idf(tfidf, tfidf_tran):\n",
    "    with open('../models/tfidf_search/tfidf.pk', 'wb') as f:\n",
    "        pickle.dump(tfidf, f)\n",
    "    sparse.save_npz(\"../models/tfidf_search/tfidf_tran.npz\", tfidf_tran)\n",
    "    \n",
    "def tf_idf_results(tf_idf, q_vec):\n",
    "    return cosine_similarity(tf_idf, q_vec).reshape((-1, ))\n",
    "\n",
    "def tf_idf_print_results(results):\n",
    "    for idx,title in enumerate(results.argsort()[-10:][::-1]):\n",
    "        print(f\"{idx+1}\\t{news_df.iloc[title,0]}\")\n",
    "        \n",
    "def tf_idf_merge_results(qe_results, raw_results, num=DOC_RELATED_NUM):\n",
    "    res = [*raw_results.argsort()[-10:][::-1], *qe_results.argsort()[-10:][::-1]]\n",
    "    res = list(dict.fromkeys(res))\n",
    "    for idx, title in enumerate(res):\n",
    "          print(f\"{idx+1}\\t{news_df.iloc[title,0]}\")"
   ]
  },
  {
   "cell_type": "code",
   "execution_count": 29,
   "metadata": {
    "id": "1qcLpCr7GDjq",
    "outputId": "f189b1a2-dff6-405e-e0f4-7034b31dabf9"
   },
   "outputs": [
    {
     "name": "stderr",
     "output_type": "stream",
     "text": [
      "/Users/nonaghazizadeh/opt/anaconda3/lib/python3.9/site-packages/sklearn/feature_extraction/text.py:1322: UserWarning: Upper case characters found in vocabulary while 'lowercase' is True. These entries will not be matched with any documents\n",
      "  warnings.warn(\n"
     ]
    }
   ],
   "source": [
    "tfidf, tfidf_tran = create_tf_idf_doc_term_matrix(news_df, removed_tokenized_words)\n",
    "save_tf_idf(tfidf, tfidf_tran)"
   ]
  },
  {
   "cell_type": "code",
   "execution_count": 30,
   "metadata": {
    "id": "fJxvw2hBHAmJ"
   },
   "outputs": [],
   "source": [
    "with open('../models/tfidf_search/tfidf.pk', 'rb') as f:\n",
    "    tfidf_loaded = pickle.load(f)\n",
    "\n",
    "tfidf_tran_loaded = sparse.load_npz(\"../models/tfidf_search/tfidf_tran.npz\")"
   ]
  },
  {
   "cell_type": "code",
   "execution_count": 31,
   "metadata": {
    "id": "-dyskbD3c1RV",
    "outputId": "ad4e9019-1d64-47d9-e935-eb8b2f7ca8b4"
   },
   "outputs": [
    {
     "name": "stdout",
     "output_type": "stream",
     "text": [
      "1\tحمله تند پیشکسوت پرسپولیس به گل‌محمدی | این اختلاف امتیاز واقعا شرم‌آور است | یحیی و دستیارانش همین حالا بروند\n",
      "2\tمعاون جدید باشگاه پرسپولیس منصوب شد | گزینه ای که هواداران مخالف حضورش بودند\n",
      "3\tاولین خرید آبی‌ها در تابستان مشخص شد؟/ بازگشت مدافع سابق به استقلال!\n",
      "4\tجدایی دسته جمعی مربیان پرسپولیس | کوچ رفقای محبوب یحیی به تیم لیگ برتری\n",
      "5\tواکنش مدیرعامل باشگاه پیکان به اتهام تبانی | با واقعیت پرسپولیس باید کنار آمد\n",
      "6\tاولین اظهارات بازیکن جدید پرسپولیس | من را اکثر تیم های ایران می خواستند\n",
      "7\tمبلغ عجیب قرارداد رامین رضاییان با پرسپولیس | واکنش جالب مدافع محبوب به پیشنهاد استقلال و حضور در تیم ملی\n",
      "8\tسرگردانی استقلال با رفتن مجیدی | واکنش‌های منفی هواداران به گزینه ایرانی\n",
      "9\tفرهاد مجیدی رسماً از استقلال جدا شد | پیام خداحافظی سرمربی آبی‌ها؛ شک نکنید برمی‌گردم و تیم محبوبم را قهرمان آسیا می‌کنم\n",
      "10\tهافبک گلساز لیگ به پرسپولیس نزدیک شد | ستاره ملی‌پوش تیم فصل بعد خود را لو داد!\n"
     ]
    }
   ],
   "source": [
    "query_vec = tfidf_loaded.transform([query])\n",
    "tfidf_results = tf_idf_results(tfidf_tran_loaded, query_vec)\n",
    "tf_idf_print_results(tfidf_results)"
   ]
  },
  {
   "cell_type": "code",
   "execution_count": 32,
   "metadata": {
    "id": "XritxwGIqLSb",
    "outputId": "8e87a87e-845f-467d-8238-10b20bbf33e2"
   },
   "outputs": [
    {
     "name": "stderr",
     "output_type": "stream",
     "text": [
      "/var/folders/jl/n26nkxfn5fz5lng2zqgww5pr0000gn/T/ipykernel_2645/996594511.py:7: RuntimeWarning: invalid value encountered in double_scalars\n",
      "  cosine_similarity = np.dot(np.array(v), np.array(q_word2vec[q_word])) / (np.linalg.norm(np.array(v)) * np.linalg.norm(np.array(q_word2vec[q_word])))\n"
     ]
    },
    {
     "name": "stdout",
     "output_type": "stream",
     "text": [
      "1\tخانه‌تکانی فرهاد شروع شد! | لیست احتمالی مجیدی برای خروج چند نفر از استقلال\n",
      "2\tتوپ طلا؛ انگیزه جذاب هیولاها در پاریس | حمله به رکورد رونالدو در تکراری‌ترین فینال\n",
      "3\tسیدبندی ایران در جام جهانی مشخص شد | قرعه احتمالی برای تیم ملی؛ بازی قرن در انتظار شاگردان اسکوچیچ؟\n",
      "4\tپایان شوم تلاش پسر جوان برای ازدواج با دختر مورد علاقه‌اش\n",
      "5\tآخرین وضعیت نگهداری از توله یوز باقیمانده ایران | ایران نباید سزارین می‌شد\n",
      "6\tخودسوزی راننده شرکت دخانیات گلستان | علت حادثه در دست پیگیری است\n",
      "7\t«کوهستان» به نام پیر میدان‌های نبرد ثبت شد\n",
      "8\tسارق جوان موبایل راننده ال‌۹۰ را دزدید و کشته شد\n",
      "9\tببینید | اقدام نجات‌بخش جوانان در بوستان‌ لاله\n",
      "10\tیک سوم ازدواج‌ها در شمال تهران در سال اول به طلاق می‌رسد | طلاق آسان در انتظار ازدواج‌های سخت! | ازدواج آسان موجب تقویت خانواده می‌شود\n"
     ]
    }
   ],
   "source": [
    "exapanded_query = expand_query(query_words, word2vec_loaded, 0.85)\n",
    "qe_query_vec = tfidf_loaded.transform([exapanded_query])\n",
    "qe_tfidf_results = tf_idf_results(tfidf_tran_loaded, qe_query_vec)\n",
    "tf_idf_print_results(qe_tfidf_results)"
   ]
  },
  {
   "cell_type": "code",
   "execution_count": 33,
   "metadata": {
    "id": "uBIDFp7jqLSb",
    "outputId": "e9497890-b75e-41c6-b487-4b595a3ff139"
   },
   "outputs": [
    {
     "name": "stdout",
     "output_type": "stream",
     "text": [
      "1\tحمله تند پیشکسوت پرسپولیس به گل‌محمدی | این اختلاف امتیاز واقعا شرم‌آور است | یحیی و دستیارانش همین حالا بروند\n",
      "2\tمعاون جدید باشگاه پرسپولیس منصوب شد | گزینه ای که هواداران مخالف حضورش بودند\n",
      "3\tاولین خرید آبی‌ها در تابستان مشخص شد؟/ بازگشت مدافع سابق به استقلال!\n",
      "4\tجدایی دسته جمعی مربیان پرسپولیس | کوچ رفقای محبوب یحیی به تیم لیگ برتری\n",
      "5\tواکنش مدیرعامل باشگاه پیکان به اتهام تبانی | با واقعیت پرسپولیس باید کنار آمد\n",
      "6\tاولین اظهارات بازیکن جدید پرسپولیس | من را اکثر تیم های ایران می خواستند\n",
      "7\tمبلغ عجیب قرارداد رامین رضاییان با پرسپولیس | واکنش جالب مدافع محبوب به پیشنهاد استقلال و حضور در تیم ملی\n",
      "8\tسرگردانی استقلال با رفتن مجیدی | واکنش‌های منفی هواداران به گزینه ایرانی\n",
      "9\tفرهاد مجیدی رسماً از استقلال جدا شد | پیام خداحافظی سرمربی آبی‌ها؛ شک نکنید برمی‌گردم و تیم محبوبم را قهرمان آسیا می‌کنم\n",
      "10\tهافبک گلساز لیگ به پرسپولیس نزدیک شد | ستاره ملی‌پوش تیم فصل بعد خود را لو داد!\n",
      "11\tخانه‌تکانی فرهاد شروع شد! | لیست احتمالی مجیدی برای خروج چند نفر از استقلال\n",
      "12\tتوپ طلا؛ انگیزه جذاب هیولاها در پاریس | حمله به رکورد رونالدو در تکراری‌ترین فینال\n",
      "13\tسیدبندی ایران در جام جهانی مشخص شد | قرعه احتمالی برای تیم ملی؛ بازی قرن در انتظار شاگردان اسکوچیچ؟\n",
      "14\tپایان شوم تلاش پسر جوان برای ازدواج با دختر مورد علاقه‌اش\n",
      "15\tآخرین وضعیت نگهداری از توله یوز باقیمانده ایران | ایران نباید سزارین می‌شد\n",
      "16\tخودسوزی راننده شرکت دخانیات گلستان | علت حادثه در دست پیگیری است\n",
      "17\t«کوهستان» به نام پیر میدان‌های نبرد ثبت شد\n",
      "18\tسارق جوان موبایل راننده ال‌۹۰ را دزدید و کشته شد\n",
      "19\tببینید | اقدام نجات‌بخش جوانان در بوستان‌ لاله\n",
      "20\tیک سوم ازدواج‌ها در شمال تهران در سال اول به طلاق می‌رسد | طلاق آسان در انتظار ازدواج‌های سخت! | ازدواج آسان موجب تقویت خانواده می‌شود\n"
     ]
    }
   ],
   "source": [
    "tf_idf_merge_results(qe_tfidf_results, tfidf_results)"
   ]
  },
  {
   "cell_type": "markdown",
   "metadata": {
    "id": "Vh_4Q6KgJcXj"
   },
   "source": [
    "### Transformers retrieval"
   ]
  },
  {
   "cell_type": "code",
   "execution_count": 63,
   "metadata": {
    "id": "SEutQI_jsaiq"
   },
   "outputs": [],
   "source": [
    "class NumpyEncoder(json.JSONEncoder):\n",
    "    def default(self, obj):\n",
    "        if isinstance(obj, np.integer):\n",
    "            return int(obj)\n",
    "        elif isinstance(obj, np.floating):\n",
    "            return float(obj)\n",
    "        elif isinstance(obj, np.ndarray):\n",
    "            return obj.tolist()\n",
    "        return json.JSONEncoder.default(self, obj)\n",
    "\n",
    "def save_transformer_pretrained_model(path):\n",
    "  MODEL_NAME = \"SajjadAyoubi/distil-bigbird-fa-zwnj\"\n",
    "  model = BigBirdModel.from_pretrained(MODEL_NAME, block_size=32)\n",
    "  tokenizer = AutoTokenizer.from_pretrained(MODEL_NAME)\n",
    "  model.save_pretrained(path + 'transformer_model.model')\n",
    "  tokenizer.save_pretrained(path + 'transformer_tokenizer')\n",
    "\n",
    "def load_transformer_pretrained_model(path):\n",
    "  model = BigBirdModel.from_pretrained(path + 'transformer_model.model')\n",
    "  tokenizer = AutoTokenizer.from_pretrained(path + 'transformer_tokenizer')\n",
    "  return model, tokenizer\n",
    "\n",
    "def create_doc_embedding_avg_transformer(tokenizer, model, df):\n",
    "  docs_embedding_tran = {}\n",
    "  for idx, doc in tqdm.tqdm(enumerate(df.clean_keyword)):\n",
    "    text = ' '.join(doc.split(','))\n",
    "    tokens = tokenizer(text, return_tensors='pt')\n",
    "    try:\n",
    "      output = model(**tokens)\n",
    "      print(f\"done{idx}\")\n",
    "    except Exception as e:\n",
    "      text = ' '.join(doc.split(',')[:1000])\n",
    "      tokens = tokenizer(text, return_tensors='pt')\n",
    "      output = model(**tokens)\n",
    "    docs_embedding_tran[idx] = output[0][0].detach().numpy()\n",
    "    \n",
    "  docs_embedding_tran_avg = {}\n",
    "  for k,v in docs_embedding_tran.items():\n",
    "    sum = np.zeros(768)\n",
    "    for idx, word_embedding in enumerate(v):\n",
    "      sum = np.sum([sum, docs_embedding_tran[k][idx]], axis=0)\n",
    "    docs_embedding_tran_avg[k] = sum / len(docs_embedding_tran[k])\n",
    "  return docs_embedding_tran_avg\n",
    "\n",
    "def save_transformer_doc_embedding_avg(doc_embedding, path):\n",
    "  with open(path, 'w', encoding=\"utf-8\") as f:\n",
    "    json.dump(doc_embedding, f, cls=NumpyEncoder)\n",
    "\n",
    "def transformer_query_embedding(tokenizer, model, query):\n",
    "  qtokens_tran = tokenizer(query, return_tensors='pt')\n",
    "  qoutput_tran = model(**qtokens_tran)\n",
    "  query_embedding_tran = qoutput_tran[0][0].detach().numpy()\n",
    "  qsum_tran = np.zeros(768)\n",
    "  for qidx,qword in enumerate(query_embedding_tran):\n",
    "    qsum_tran = np.sum([qsum_tran, np.array(query_embedding_tran[qidx])], axis=0)\n",
    "  q_avg_tran = qsum_tran / len(query_embedding_tran)\n",
    "  return q_avg_tran\n",
    "\n",
    "def transformers_results(doc_embeddings, query_embedding):\n",
    "  docs_cosine_similarity_tran = {}\n",
    "  for idx,doc_embedding in doc_embeddings.items():\n",
    "    docs_cosine_similarity_tran[idx] = np.dot(doc_embedding, query_embedding) / (np.linalg.norm(doc_embedding)*np.linalg.norm(query_embedding))\n",
    "\n",
    "  docs_cosine_similarity_tran = reversed(sorted(docs_cosine_similarity_tran.items(), key=lambda x:x[1]))\n",
    "  sort_docs_cosine_similarity_tran = dict(docs_cosine_similarity_tran)\n",
    "  return sort_docs_cosine_similarity_tran\n",
    "\n",
    "def transformer_find_non_related_docs_avg(result, doc_embeddings, num=DOC_RELATED_NUM):\n",
    "    sum = np.zeros(768)\n",
    "    for idx, doc_id in enumerate((list(result.items()))[-10:]):\n",
    "        sum = np.sum([sum, doc_embeddings[doc_id[0]]],axis=0)\n",
    "    avg_non_related = sum / DOC_RELATED_NUM\n",
    "    return avg_non_related\n",
    "\n",
    "def transformer_find_related_docs_avg(result, doc_embeddings, num=DOC_RELATED_NUM):\n",
    "    sum = np.zeros(768)\n",
    "    for idx, doc_id in enumerate((list(result.items()))[:10]):\n",
    "        sum = np.sum([sum, doc_embeddings[doc_id[0]]],axis=0)\n",
    "    avg_related = sum / DOC_RELATED_NUM\n",
    "    return avg_related\n",
    "\n",
    "def transformer_print_results(result):\n",
    "  for idx, doc_id in enumerate((list(result.items()))[:10]):\n",
    "    print(f\"{idx+1}   {news_df.iloc[int(doc_id[0])].title}\")\n",
    "\n",
    "def transformer_merge_results(qe_results, raw_results, num=DOC_RELATED_NUM):\n",
    "    res = [*(list(qe_results.items()))[:num], *(list(raw_results.items()))[:num]]\n",
    "    res = list(dict.fromkeys(res))\n",
    "    for idx, doc_id in enumerate(res):\n",
    "        print(f\"{idx+1}   {news_df.iloc[int(doc_id[0])].title}\")  "
   ]
  },
  {
   "cell_type": "code",
   "execution_count": null,
   "metadata": {
    "id": "X4iE4AdHJgaH"
   },
   "outputs": [],
   "source": [
    "save_transformer_pretrained_model('/content/models/')\n",
    "model_loaded, tokenizer_loaded = load_transformer_pretrained_model('/content/models/') \n",
    "docs_embedding_tran_avg = create_doc_embedding_avg_transformer(tokenizer_loaded, model_loaded, news_df)\n",
    "save_transformer_doc_embedding_avg(docs_embedding_tran_avg, '/content/models/transformer_vectors_emb.json')"
   ]
  },
  {
   "cell_type": "code",
   "execution_count": 48,
   "metadata": {
    "id": "ZPbIFZYAhkby"
   },
   "outputs": [],
   "source": [
    "with open('/content/models/transformer_vectors_emb.json', 'r', encoding=\"utf-8\") as f:\n",
    "  loaded_docs_embs_transformers = json.loads(f.read())"
   ]
  },
  {
   "cell_type": "code",
   "execution_count": 55,
   "metadata": {
    "colab": {
     "base_uri": "https://localhost:8080/"
    },
    "id": "InTMpt3TKDN9",
    "outputId": "118c8d28-9d1a-47a9-93e1-b53d35ef8367"
   },
   "outputs": [
    {
     "name": "stdout",
     "output_type": "stream",
     "text": [
      "1   رسمی| خرید جدید آبی ها رونمایی شد | مدافع لیگ برتری به استقلال پیوست\n",
      "2   تصاویر لحظه بازداشت معاون سفیر انگلیس با چشمان بسته توسط اطلاعات سپاه\n",
      "3   تعویق تمرینات پرسپولیس به زمان نامشخص\n",
      "4   حضور آقای گل لیگ در پرسپولیس منتفی شد | منشا قراردادش را تمدید کرد\n",
      "5   عکس| خرید خارجی پرسپولیس وارد تهران شد\n",
      "6   رسمی | قرارداد بازیکن خارجی با پرسپولیس امضا شد\n",
      "7   یک پرسپولیسی دیگر  رسما جدا شد | بازیکن سرخ‌پوش در تیم لیگ برتری\n",
      "8   عکس | واکنش ستاره پرسپولیسی به ماجرای قراردادهای نجومی\n",
      "9   زمان حضور خارجی‌های جدید پرسپولیس در تهران مشخص شد\n",
      "10   اضافه شدن ازبک‌ها به رقابت سرخابی ها | پیشنهاد خارجی برای مدافع ملی‌پوش\n"
     ]
    }
   ],
   "source": [
    "transformer_query_avg_tran = transformer_query_embedding(tokenizer_loaded, model_loaded, query)\n",
    "transformer_results_cosine = transformers_results(loaded_docs_embs_transformers, transformer_query_avg_tran)\n",
    "transformer_print_results(transformer_results_cosine)"
   ]
  },
  {
   "cell_type": "code",
   "execution_count": 64,
   "metadata": {
    "colab": {
     "base_uri": "https://localhost:8080/"
    },
    "id": "5-AKiB1uAtWx",
    "outputId": "99486684-a479-4c57-8e32-984c8b7a371a"
   },
   "outputs": [
    {
     "name": "stdout",
     "output_type": "stream",
     "text": [
      "1   حضور آقای گل لیگ در پرسپولیس منتفی شد | منشا قراردادش را تمدید کرد\n",
      "2   رسمی| خرید جدید آبی ها رونمایی شد | مدافع لیگ برتری به استقلال پیوست\n",
      "3   مهاجم خارجی پرسپولیس به تهران رسید\n",
      "4   ورود مربی خارجی پرسپولیس به ایران\n",
      "5   عکس | پست برانکو برای خداحافظی کاپیتان پرافتخار پرسپولیس\n",
      "6   یک پرسپولیسی دیگر  رسما جدا شد | بازیکن سرخ‌پوش در تیم لیگ برتری\n",
      "7   عکس| خرید خارجی پرسپولیس وارد تهران شد\n",
      "8   زمان حضور خارجی‌های جدید پرسپولیس در تهران مشخص شد\n",
      "9   رسمی | قرارداد بازیکن خارجی با پرسپولیس امضا شد\n",
      "10   تعویق تمرینات پرسپولیس به زمان نامشخص\n"
     ]
    }
   ],
   "source": [
    "nr_doc_avg_transformers = transformer_find_non_related_docs_avg(transformer_results_cosine, loaded_docs_embs_transformers)\n",
    "r_doc_avg_transformers = transformer_find_related_docs_avg(transformer_results_cosine, loaded_docs_embs_transformers)\n",
    "new_query_embedding_avg_transformers = expand_query_rochio(transformer_query_avg_tran, nr_doc_avg_transformers, r_doc_avg_transformers)\n",
    "qe_transformers_results_cosines = transformers_results(loaded_docs_embs_transformers, new_query_embedding_avg_transformers)\n",
    "transformer_print_results(qe_transformers_results_cosines)"
   ]
  },
  {
   "cell_type": "code",
   "execution_count": 65,
   "metadata": {
    "colab": {
     "base_uri": "https://localhost:8080/"
    },
    "id": "D_w5AZPtCJ2T",
    "outputId": "0bbb254c-15fb-4d96-d17f-b4464b99c3c2"
   },
   "outputs": [
    {
     "name": "stdout",
     "output_type": "stream",
     "text": [
      "1   حضور آقای گل لیگ در پرسپولیس منتفی شد | منشا قراردادش را تمدید کرد\n",
      "2   رسمی| خرید جدید آبی ها رونمایی شد | مدافع لیگ برتری به استقلال پیوست\n",
      "3   مهاجم خارجی پرسپولیس به تهران رسید\n",
      "4   ورود مربی خارجی پرسپولیس به ایران\n",
      "5   عکس | پست برانکو برای خداحافظی کاپیتان پرافتخار پرسپولیس\n",
      "6   یک پرسپولیسی دیگر  رسما جدا شد | بازیکن سرخ‌پوش در تیم لیگ برتری\n",
      "7   عکس| خرید خارجی پرسپولیس وارد تهران شد\n",
      "8   زمان حضور خارجی‌های جدید پرسپولیس در تهران مشخص شد\n",
      "9   رسمی | قرارداد بازیکن خارجی با پرسپولیس امضا شد\n",
      "10   تعویق تمرینات پرسپولیس به زمان نامشخص\n",
      "11   رسمی| خرید جدید آبی ها رونمایی شد | مدافع لیگ برتری به استقلال پیوست\n",
      "12   تصاویر لحظه بازداشت معاون سفیر انگلیس با چشمان بسته توسط اطلاعات سپاه\n",
      "13   تعویق تمرینات پرسپولیس به زمان نامشخص\n",
      "14   حضور آقای گل لیگ در پرسپولیس منتفی شد | منشا قراردادش را تمدید کرد\n",
      "15   عکس| خرید خارجی پرسپولیس وارد تهران شد\n",
      "16   رسمی | قرارداد بازیکن خارجی با پرسپولیس امضا شد\n",
      "17   یک پرسپولیسی دیگر  رسما جدا شد | بازیکن سرخ‌پوش در تیم لیگ برتری\n",
      "18   عکس | واکنش ستاره پرسپولیسی به ماجرای قراردادهای نجومی\n",
      "19   زمان حضور خارجی‌های جدید پرسپولیس در تهران مشخص شد\n",
      "20   اضافه شدن ازبک‌ها به رقابت سرخابی ها | پیشنهاد خارجی برای مدافع ملی‌پوش\n"
     ]
    }
   ],
   "source": [
    "transformer_merge_results(qe_transformers_results_cosines, transformer_results_cosine)"
   ]
  },
  {
   "cell_type": "markdown",
   "metadata": {
    "id": "RyNZBUnbjEyp"
   },
   "source": [
    "### Fasttext retrieval"
   ]
  },
  {
   "cell_type": "code",
   "execution_count": 18,
   "metadata": {
    "id": "sTZvzMdRqLSd"
   },
   "outputs": [],
   "source": [
    "class NumpyEncoder(json.JSONEncoder):\n",
    "    def default(self, obj):\n",
    "        if isinstance(obj, np.integer):\n",
    "            return int(obj)\n",
    "        elif isinstance(obj, np.floating):\n",
    "            return float(obj)\n",
    "        elif isinstance(obj, np.ndarray):\n",
    "            return obj.tolist()\n",
    "        return json.JSONEncoder.default(self, obj)\n",
    "    \n",
    "def create_fasttext_data(df):\n",
    "    tokens_list = df.clean_keyword.tolist()\n",
    "    all_news_content = ''\n",
    "    for doc in tokens_list:\n",
    "        all_news_content += ' '.join(doc.split(\",\")) + '\\n'\n",
    "    return all_news_content\n",
    "\n",
    "def save_fasttext_data(data, path):\n",
    "    with open(path, 'w') as text_file:\n",
    "        text_file.write(data)\n",
    "\n",
    "def train_fasttext(path):\n",
    "    return fasttext.train_unsupervised(path, model='skipgram', minCount=4)\n",
    "\n",
    "def save_fasttext(model, path):\n",
    "    model.save_model(path)\n",
    "    \n",
    "def create_doc_embedding(df, model):\n",
    "    docs_embedding_avg = {}\n",
    "    for idx, doc in enumerate(df.clean_keyword):\n",
    "        sum = np.zeros(100)\n",
    "        for word in doc.split(','):\n",
    "            sum = np.sum([sum, model[word]],axis=0)\n",
    "        docs_embedding_avg[idx] = sum / len(doc.split(','))\n",
    "    return docs_embedding_avg\n",
    "\n",
    "def save_doc_embedding(doc_embedding, path):        \n",
    "    with open(path, 'w', encoding=\"utf-8\") as f:\n",
    "        json.dump(doc_embedding, f, cls=NumpyEncoder)\n",
    "\n",
    "def query_embedding(q_words, model):\n",
    "    query_sum = np.zeros(100)\n",
    "    for qword in q_words:\n",
    "        query_sum = np.sum([query_sum, model[qword]], axis = 0)\n",
    "    query_embedding_avg = query_sum / len(q_words)\n",
    "    return query_embedding_avg\n",
    "\n",
    "def fasttext_results(doc_embeddings, query_embedding):\n",
    "    docs_cosine_similarity = {}\n",
    "    for idx,doc_embedding in doc_embeddings.items():\n",
    "        docs_cosine_similarity[idx] = np.dot(np.array(doc_embedding), query_embedding) / (np.linalg.norm(np.array(doc_embedding))*np.linalg.norm(query_embedding))\n",
    "\n",
    "    docs_cosine_similarity = reversed(sorted(docs_cosine_similarity.items(), key=lambda x:x[1]))\n",
    "    sort_docs_cosine_similarity = dict(docs_cosine_similarity)\n",
    "    return sort_docs_cosine_similarity\n",
    "\n",
    "def find_non_related_docs_avg(result, doc_embeddings, num=DOC_RELATED_NUM):\n",
    "    sum = np.zeros(100)\n",
    "    for idx, doc_id in enumerate((list(result.items()))[-10:]):\n",
    "        sum = np.sum([sum, doc_embeddings[doc_id[0]]],axis=0)\n",
    "    avg_non_related = sum / DOC_RELATED_NUM\n",
    "    return avg_non_related\n",
    "\n",
    "def find_related_docs_avg(result, doc_embeddings, num=DOC_RELATED_NUM):\n",
    "    sum = np.zeros(100)\n",
    "    for idx, doc_id in enumerate((list(result.items()))[:10]):\n",
    "        sum = np.sum([sum, doc_embeddings[doc_id[0]]],axis=0)\n",
    "    avg_related = sum / DOC_RELATED_NUM\n",
    "    return avg_related\n",
    "\n",
    "def fasttext_print_results(result):\n",
    "    for idx, doc_id in enumerate((list(result.items()))[:10]):\n",
    "        print(f\"{idx+1}   {news_df.iloc[int(doc_id[0])].title}\")\n",
    "        \n",
    "def fasttext_merge_results(qe_results, raw_results, num=DOC_RELATED_NUM):\n",
    "    res = [*(list(qe_results.items()))[:num], *(list(raw_results.items()))[:num]]\n",
    "    res = list(dict.fromkeys(res))\n",
    "    for idx, doc_id in enumerate(res):\n",
    "        print(f\"{idx+1}   {news_df.iloc[int(doc_id[0])].title}\")    "
   ]
  },
  {
   "cell_type": "code",
   "execution_count": 20,
   "metadata": {
    "id": "APnpwBqQqLSd"
   },
   "outputs": [],
   "source": [
    "all_news_content = create_fasttext_data(news_df)\n",
    "save_fasttext_data(all_news_content, '/content/models/fasttext_data.txt')\n",
    "fasttext_model = train_fasttext('/content/models/fasttext_data.txt')\n",
    "save_fasttext(fasttext_model, '/content/models/fasttext.bin')"
   ]
  },
  {
   "cell_type": "code",
   "execution_count": 21,
   "metadata": {
    "colab": {
     "base_uri": "https://localhost:8080/"
    },
    "id": "ZKFz0FSjk0z0",
    "outputId": "e101639c-7335-4f47-8909-8dab9d4f9d1d"
   },
   "outputs": [
    {
     "name": "stderr",
     "output_type": "stream",
     "text": [
      "Warning : `load_model` does not return WordVectorModel or SupervisedModel any more, but a `FastText` object which is very similar.\n"
     ]
    }
   ],
   "source": [
    "fasttext_model_loaded = fasttext.load_model('/content/models/fasttext.bin')\n",
    "docs_embedding_avg = create_doc_embedding(news_df, fasttext_model_loaded)\n",
    "save_doc_embedding(docs_embedding_avg, '/content/models/fasttext_vectors_emb.json')\n",
    "query_embedding_avg = query_embedding(query_words, fasttext_model_loaded)"
   ]
  },
  {
   "cell_type": "code",
   "execution_count": 22,
   "metadata": {
    "id": "TtYPvo9BcnmQ"
   },
   "outputs": [],
   "source": [
    "with open('/content/models/fasttext_vectors_emb.json', 'r', encoding=\"utf-8\") as f:\n",
    "  loaded_docs_embs_ft = json.loads(f.read())"
   ]
  },
  {
   "cell_type": "code",
   "execution_count": 23,
   "metadata": {
    "colab": {
     "base_uri": "https://localhost:8080/"
    },
    "id": "cFgaNBsFl6GQ",
    "outputId": "71080deb-592b-461f-d7e2-8d7bf785547c"
   },
   "outputs": [
    {
     "name": "stdout",
     "output_type": "stream",
     "text": [
      "1   یک استقلالی دیگر هم تمدید کرد | هافبک آبی ها از لیست خروج بیرون آمد\n",
      "2   رسمی| خیال آبی ها راحت شد | تمدید بلندمدت قرارداد ستاره خارجی استقلال\n",
      "3   عکس | هافبک میانی استقلال هم تمدید کرد\n",
      "4   حمله سپاهان به قهرمان لیگ | استقلال در آستانه حراج!\n",
      "5   ریسک بازیکن استقلال با سیستم ساپینتو | تلخ و شیرین جشن آبی‌ها بسته به تصمیم یک ملی‌پوش!\n",
      "6   مدافع آبی‌ها از استقلال مهلت خواست | قراردادی با میرزایی امضا نشده است\n",
      "7   جدایی بازیکن پرسپولیس قطعی شد | برگه فسخ قرارداد آماده امضا\n",
      "8   تغییر چهره استقلال با ساپینتو | قهرمان جوان‌تر می‌شود\n",
      "9   یک بازیکن دیگر هم استقلال را ترک می‌کند | هافبک آبی‌ها رضایت‌نامه می‌خواهد\n",
      "10   سپاهان آماده رونمایی از یک خرید بزرگ | ستاره محبوب استقلالی ها در آستانه زردپوش شدن\n"
     ]
    }
   ],
   "source": [
    "fasttext_results_cosines = fasttext_results(loaded_docs_embs_ft, query_embedding_avg)\n",
    "fasttext_print_results(fasttext_results_cosines)"
   ]
  },
  {
   "cell_type": "code",
   "execution_count": 34,
   "metadata": {
    "colab": {
     "base_uri": "https://localhost:8080/"
    },
    "id": "XO6zIrRyqLSd",
    "outputId": "cb3dc9e9-ee1d-4581-ef48-ff554ddd5010"
   },
   "outputs": [
    {
     "name": "stdout",
     "output_type": "stream",
     "text": [
      "1   تعویق تمرینات پرسپولیس به زمان نامشخص\n",
      "2   یک استقلالی دیگر هم تمدید کرد | هافبک آبی ها از لیست خروج بیرون آمد\n",
      "3   کریم باقری به آمریکا رفت | استارت پرسپولیس برای فصل بعد بدون مربی محبوب\n",
      "4   یک بازیکن دیگر هم استقلال را ترک می‌کند | هافبک آبی‌ها رضایت‌نامه می‌خواهد\n",
      "5   ادامه طلسم تمرینات پیش فصل استقلال | تاخیر دوباره در استارت ساپینتو؟\n",
      "6   اولین حریف پرسپولیس مشخص شد\n",
      "7   بازگشت بزرگ یک ستاره به سمت استقلال | قرارداد گزینه محبوب هواداران به زودی امضا می شود\n",
      "8   شروع متفاوت یحیی در پرسپولیس | از تیم من دور شوید\n",
      "9   عکس | پایان دوران وریا غفوری در استقلال | کاپیتان محبوب آبی‌ها رسما خداحافظی کرد!\n",
      "10   اقدام آبی‌ها برای حفظ کاپیتان استقلال | تصمیم احتمالی باشگاه مشخص شد\n"
     ]
    }
   ],
   "source": [
    "nr_doc_avg = find_non_related_docs_avg(fasttext_results_cosines, loaded_docs_embs_ft)\n",
    "r_doc_avg = find_related_docs_avg(fasttext_results_cosines, loaded_docs_embs_ft)\n",
    "new_query_embedding_avg = expand_query_rochio(query_embedding_avg, nr_doc_avg, r_doc_avg)\n",
    "qe_fasttext_results_cosines = fasttext_results(loaded_docs_embs_ft, new_query_embedding_avg)\n",
    "fasttext_print_results(qe_fasttext_results_cosines)"
   ]
  },
  {
   "cell_type": "code",
   "execution_count": 35,
   "metadata": {
    "colab": {
     "base_uri": "https://localhost:8080/"
    },
    "id": "4W-SLu52qLSd",
    "outputId": "b1303119-2339-407c-f972-3bb3eb68c7c6"
   },
   "outputs": [
    {
     "name": "stdout",
     "output_type": "stream",
     "text": [
      "1   تعویق تمرینات پرسپولیس به زمان نامشخص\n",
      "2   یک استقلالی دیگر هم تمدید کرد | هافبک آبی ها از لیست خروج بیرون آمد\n",
      "3   کریم باقری به آمریکا رفت | استارت پرسپولیس برای فصل بعد بدون مربی محبوب\n",
      "4   یک بازیکن دیگر هم استقلال را ترک می‌کند | هافبک آبی‌ها رضایت‌نامه می‌خواهد\n",
      "5   ادامه طلسم تمرینات پیش فصل استقلال | تاخیر دوباره در استارت ساپینتو؟\n",
      "6   اولین حریف پرسپولیس مشخص شد\n",
      "7   بازگشت بزرگ یک ستاره به سمت استقلال | قرارداد گزینه محبوب هواداران به زودی امضا می شود\n",
      "8   شروع متفاوت یحیی در پرسپولیس | از تیم من دور شوید\n",
      "9   عکس | پایان دوران وریا غفوری در استقلال | کاپیتان محبوب آبی‌ها رسما خداحافظی کرد!\n",
      "10   اقدام آبی‌ها برای حفظ کاپیتان استقلال | تصمیم احتمالی باشگاه مشخص شد\n",
      "11   یک استقلالی دیگر هم تمدید کرد | هافبک آبی ها از لیست خروج بیرون آمد\n",
      "12   رسمی| خیال آبی ها راحت شد | تمدید بلندمدت قرارداد ستاره خارجی استقلال\n",
      "13   عکس | هافبک میانی استقلال هم تمدید کرد\n",
      "14   حمله سپاهان به قهرمان لیگ | استقلال در آستانه حراج!\n",
      "15   ریسک بازیکن استقلال با سیستم ساپینتو | تلخ و شیرین جشن آبی‌ها بسته به تصمیم یک ملی‌پوش!\n",
      "16   مدافع آبی‌ها از استقلال مهلت خواست | قراردادی با میرزایی امضا نشده است\n",
      "17   جدایی بازیکن پرسپولیس قطعی شد | برگه فسخ قرارداد آماده امضا\n",
      "18   تغییر چهره استقلال با ساپینتو | قهرمان جوان‌تر می‌شود\n",
      "19   یک بازیکن دیگر هم استقلال را ترک می‌کند | هافبک آبی‌ها رضایت‌نامه می‌خواهد\n",
      "20   سپاهان آماده رونمایی از یک خرید بزرگ | ستاره محبوب استقلالی ها در آستانه زردپوش شدن\n"
     ]
    }
   ],
   "source": [
    "fasttext_merge_results(qe_fasttext_results_cosines, fasttext_results_cosines)"
   ]
  }
 ],
 "metadata": {
  "colab": {
   "collapsed_sections": [
    "roQKPE71bCjG",
    "ZBusZPcTbIv8",
    "SCIzZ9apauro",
    "9wT33MhebRiM"
   ],
   "name": "search_engine-with_QE.ipynb",
   "provenance": []
  },
  "kernelspec": {
   "display_name": "Python 3 (ipykernel)",
   "language": "python",
   "name": "python3"
  },
  "language_info": {
   "codemirror_mode": {
    "name": "ipython",
    "version": 3
   },
   "file_extension": ".py",
   "mimetype": "text/x-python",
   "name": "python",
   "nbconvert_exporter": "python",
   "pygments_lexer": "ipython3",
   "version": "3.9.12"
  }
 },
 "nbformat": 4,
 "nbformat_minor": 1
}
